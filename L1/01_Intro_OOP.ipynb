{
  "nbformat": 4,
  "nbformat_minor": 0,
  "metadata": {
    "colab": {
      "provenance": [],
      "collapsed_sections": [
        "eO9dj7Hoe6PU"
      ],
      "toc_visible": true
    },
    "kernelspec": {
      "name": "python3",
      "display_name": "Python 3"
    },
    "language_info": {
      "name": "python"
    }
  },
  "cells": [
    {
      "cell_type": "markdown",
      "source": [
        "# 🚀 Capstone Project\n",
        "\n",
        "> 👋 Let's take a friendly dive into the world of OOP (Object-Oriented Programming) in Python."
      ],
      "metadata": {
        "id": "3ZUfV9uFKoAV"
      }
    },
    {
      "cell_type": "markdown",
      "source": [
        "<img width=\"20px\" src=\"https://upload.wikimedia.org/wikipedia/commons/4/45/Notion_app_logo.png\"> Notion Page: [Class 1 : OOP](https://www.notion.so/fernando-courses/2023-09-08-2ca6c0472e1242b89c107983bb257714?pvs=4)\n",
        "\n",
        "\n"
      ],
      "metadata": {
        "id": "iRFZcpnHK7CD"
      }
    },
    {
      "cell_type": "markdown",
      "source": [
        "<img width=\"20px\" src=\"https://store-images.s-microsoft.com/image/apps.59334.13959754522315136.c4ea2415-8e3c-42bf-8f77-e885eb7c11a1.be6eacf3-e0b4-4478-9abc-47192806c1b5\"> Miro board: [Our board](https://miro.com/app/board/uXjVMnF1xoA=/?share_link_id=869347002407)"
      ],
      "metadata": {
        "id": "sABnFX4JnY5N"
      }
    },
    {
      "cell_type": "markdown",
      "source": [
        "## 💬 Objective & Notes"
      ],
      "metadata": {
        "id": "eYoIWGYCdpM0"
      }
    },
    {
      "cell_type": "markdown",
      "source": [
        "> Present the main concepts of OOP in python. Show how can we aplly:\n",
        ">\n",
        "> 1. Encapsulation and Absctraction\n",
        "2. Inheritance\n",
        "3. Polymophirms"
      ],
      "metadata": {
        "id": "MQRMIRLSeCU9"
      }
    },
    {
      "cell_type": "markdown",
      "source": [
        "## ⚡️ Setup"
      ],
      "metadata": {
        "id": "mbVzF1SCdx__"
      }
    },
    {
      "cell_type": "markdown",
      "source": [
        "### Import required Libraries"
      ],
      "metadata": {
        "id": "2oSRr30Sd0rw"
      }
    },
    {
      "cell_type": "code",
      "source": [
        "import random\n",
        "\n",
        "# ANSI escape codes for text formatting\n",
        "class Color:\n",
        "    RESET = \"\\033[0m\"\n",
        "    RED = \"\\033[91m\"\n",
        "    GREEN = \"\\033[92m\"\n",
        "    YELLOW = \"\\033[93m\"\n",
        "    BLUE = \"\\033[94m\"\n",
        "    PURPLE = \"\\033[95m\"\n",
        "    CYAN = \"\\033[96m\""
      ],
      "metadata": {
        "id": "LDFXCD7zWs1q"
      },
      "execution_count": null,
      "outputs": []
    },
    {
      "cell_type": "code",
      "source": [
        "Color.RESET"
      ],
      "metadata": {
        "colab": {
          "base_uri": "https://localhost:8080/",
          "height": 35
        },
        "id": "jrQZpdk-GSYm",
        "outputId": "ce0457a4-ef58-4594-b795-4b48c6297fe1"
      },
      "execution_count": null,
      "outputs": [
        {
          "output_type": "execute_result",
          "data": {
            "text/plain": [
              "'\\x1b[0m'"
            ],
            "application/vnd.google.colaboratory.intrinsic+json": {
              "type": "string"
            }
          },
          "metadata": {},
          "execution_count": 3
        }
      ]
    },
    {
      "cell_type": "markdown",
      "source": [
        "## 💎 Encapsulation and Abstraction"
      ],
      "metadata": {
        "id": "T-YlpBlkRGxD"
      }
    },
    {
      "cell_type": "markdown",
      "source": [
        "### 👋 Class (concept)"
      ],
      "metadata": {
        "id": "eO9dj7Hoe6PU"
      }
    },
    {
      "cell_type": "markdown",
      "source": [
        "👉 Encapsulation focuses on bundling data (attributes) and methods (functions) that operate on the data into a single unit called a class\n",
        "<br><br>\n",
        "👉 Abstraction is the method of simplifying complex systems provide a level of abstraction where you can define the interface (methods) without exposing the underlying implementation.\n",
        "\n",
        "> Remember: you can find more details in the page of this class in Notion."
      ],
      "metadata": {
        "id": "8PHgh36LXvEr"
      }
    },
    {
      "cell_type": "markdown",
      "source": [
        "CLASS\n",
        "\n",
        "> A \"recipe\" or \"template\"\n",
        ">\n",
        "\n",
        "A `class` is an *extensible* “template” for creating objects according to its definitions. You can define:\n",
        "\n",
        "- `attributes` (member variables or data or property)\n",
        "- `behaviors` (member functions or methods) which will implement the actions to be performed by the objects\n",
        "- `constructor` (a special type of method with no return type, even void, and it must be the same as the class name)"
      ],
      "metadata": {
        "id": "oTW6Gd4UbzKL"
      }
    },
    {
      "cell_type": "markdown",
      "source": [
        "### 👨🏻‍💻 Python Class: code"
      ],
      "metadata": {
        "id": "xvddaSZwezX3"
      }
    },
    {
      "cell_type": "markdown",
      "source": [
        "> For example:\n",
        "Let's say you're building a basic chatbot. This chatbot has a name (an attribute) and a greeting method. The greeting method is where the chatbot says hello, but it can say it in two different ways, just to add some variety and fun."
      ],
      "metadata": {
        "id": "4yajGXhxfw89"
      }
    },
    {
      "cell_type": "code",
      "source": [
        "class Chatbot:\n",
        "  def __init__(self, name):\n",
        "    self.name = name\n",
        "\n",
        "  def greet(self):\n",
        "    greetings = [f\"Hello! I am {self.name}.\", f\"I am {self.name}, how can I help you?\"]\n",
        "    return random.choice(greetings)"
      ],
      "metadata": {
        "id": "Npwd-82gURc_"
      },
      "execution_count": null,
      "outputs": []
    },
    {
      "cell_type": "markdown",
      "source": [
        "> ⚠️ The code above represents a regular class - the most common type of classes in Python, but there are others. We will see some of them furtther."
      ],
      "metadata": {
        "id": "XbFzC1Zgh9Yz"
      }
    },
    {
      "cell_type": "markdown",
      "source": [
        "> 💊 <font style=\"color:blue\">Attention: </font> In the board, you can see some considerations of `class anotamy` and `__init__ method` in our board:\n",
        "> [board with concepts, ideas, and explanations](https://miro.com/app/board/uXjVMnF1xoA=/?share_link_id=869347002407)"
      ],
      "metadata": {
        "id": "qWjj3JwjB_Tu"
      }
    },
    {
      "cell_type": "markdown",
      "source": [
        "So, whenever you create a new chatbot (an instance of the class), each one can introduce itself uniquely with its name and a personalized greeting style. Let's see it in the next topic."
      ],
      "metadata": {
        "id": "TZ3OTHg8g33f"
      }
    },
    {
      "cell_type": "markdown",
      "source": [
        "### 👋 Object (intance) concept"
      ],
      "metadata": {
        "id": "HJHgYxSwhCvV"
      }
    },
    {
      "cell_type": "markdown",
      "source": [
        "OBJECT\n",
        "\n",
        "> ***AN EXAMPLE OF A TEMPLATE (an instance)***\n",
        "\n",
        "An **`object`** represents a concrete entity (instantiated) that can be distinctly identified.\n",
        "\n",
        "- An `object` is an instance of a `class` that is stored in a variable.\n",
        "- Each `object` has a set of attributes (data) and behaviors (methods) that were defined in the class.\n",
        "- The `state` of an object is the current value of each attribute."
      ],
      "metadata": {
        "id": "JDxq8rrRiWu0"
      }
    },
    {
      "cell_type": "markdown",
      "source": [
        "### 👨🏻‍💻 Object (intance) code"
      ],
      "metadata": {
        "id": "Vm06qd68hMXn"
      }
    },
    {
      "cell_type": "markdown",
      "source": [
        "Instantiate an object of the class ChatBot"
      ],
      "metadata": {
        "id": "z1DwGLR_imcS"
      }
    },
    {
      "cell_type": "code",
      "source": [
        "cb1 = Chatbot(\"RCP\")"
      ],
      "metadata": {
        "id": "_KzBA6fyMttg"
      },
      "execution_count": null,
      "outputs": []
    },
    {
      "cell_type": "markdown",
      "source": [
        "Call the gretting method of the intance stored into `cb1` variable"
      ],
      "metadata": {
        "id": "tj8RbyvairG-"
      }
    },
    {
      "cell_type": "code",
      "source": [
        "print(cb1.greet())"
      ],
      "metadata": {
        "colab": {
          "base_uri": "https://localhost:8080/"
        },
        "id": "ubRsNRsgUFA3",
        "outputId": "23260aa3-86fc-4dbd-dd75-0e45b0539b4b"
      },
      "execution_count": null,
      "outputs": [
        {
          "output_type": "stream",
          "name": "stdout",
          "text": [
            "Hello! I am RCP.\n"
          ]
        }
      ]
    },
    {
      "cell_type": "markdown",
      "source": [
        "> <font color='orange'>🤔 QUESTION: Why we did not write the print statement into the `greet` method?</font>"
      ],
      "metadata": {
        "id": "oOxDeQe70sNo"
      }
    },
    {
      "cell_type": "markdown",
      "source": [
        "We also can access the attribute name."
      ],
      "metadata": {
        "id": "UvAR332ti1wP"
      }
    },
    {
      "cell_type": "code",
      "source": [
        "cb1.name"
      ],
      "metadata": {
        "colab": {
          "base_uri": "https://localhost:8080/",
          "height": 35
        },
        "id": "a9ohHm9GikPc",
        "outputId": "476775df-0f7a-44e2-936f-b25274b07331"
      },
      "execution_count": null,
      "outputs": [
        {
          "output_type": "execute_result",
          "data": {
            "text/plain": [
              "'RCP'"
            ],
            "application/vnd.google.colaboratory.intrinsic+json": {
              "type": "string"
            }
          },
          "metadata": {},
          "execution_count": 13
        }
      ]
    },
    {
      "cell_type": "markdown",
      "source": [
        "## 💎 Inheritance & Polymorphism\n",
        "\n",
        "> Indented block\n",
        "\n"
      ],
      "metadata": {
        "id": "po5xegz-m2DW"
      }
    },
    {
      "cell_type": "markdown",
      "source": [
        "### 👋 Concepts"
      ],
      "metadata": {
        "id": "8cv2GxcnzHlZ"
      }
    },
    {
      "cell_type": "markdown",
      "source": [
        "**Inheritance**\n",
        "\n",
        "Inheritance is the process that enables a `subclasses` inherit features (attributes, methods, and constructors) from their `superclasses`.\n",
        "\n",
        "- The way you code the `superclass` determines what can be inherited by the `subclass`.\n",
        "- On the other hand, the `subclass` can change some behaviors of the `superclass` by specializing some behaviors if needed.\n",
        "\n",
        "<br>\n",
        "<br>\n",
        "\n",
        "**Polymorphism**\n",
        "\n",
        "Polymorphism enables us to define methods in the `subclass` that share the **same name** as the methods in the `superclass`. The methods from the `superclass` are passed down to the `subclass` through inheritance.\n",
        "\n",
        "> However, a method from the `superclass` can be changed by a `subclass`, resulting in a different way to process data or produce distinct outputs.\n",
        ">"
      ],
      "metadata": {
        "id": "_lnsnpvP0BCC"
      }
    },
    {
      "cell_type": "markdown",
      "source": [
        "\n",
        "🧐 **EXAMPLE:**\n",
        "\n",
        "To explain the concept of inheritance better, let's proceed with the implementation of a basic example. Imagine you want to expand the capabilities of the `Chatbot` class.\n",
        "\n",
        "You aim to create two distinct chatbots:\n",
        "1. one that's cheerful and\n",
        "2. another that's grumpy.\n",
        "\n",
        "> These specialized chatbots will modify the greeting method to provide greetings matching their moods."
      ],
      "metadata": {
        "id": "EY2DFb9im13D"
      }
    },
    {
      "cell_type": "markdown",
      "source": [
        "### 👨🏻‍💻 Code"
      ],
      "metadata": {
        "id": "EiWpU3HmzRUM"
      }
    },
    {
      "cell_type": "code",
      "source": [
        "\"\"\"\n",
        "👉 Super class is replicated to facilitate the explanation and\n",
        "keep all elements of the inheritance together.\n",
        "\"\"\"\n",
        "\n",
        "# Superclass\n",
        "class Chatbot:\n",
        "    name=\"\"\n",
        "    def __init__(self, name):\n",
        "        self.name = name\n",
        "\n",
        "    def greet(self):\n",
        "        greetings = [\n",
        "            f\"Hello! I am {self.name}.\",\n",
        "            f\"I am {self.name}, how can I help you?\"]\n",
        "        return random.choice(greetings)\n",
        "\n",
        "# subclass AngryChatBot\n",
        "class AngryChatbot(Chatbot):\n",
        "    def greet(self):\n",
        "        return f\"I am {self.name}, what do you want? Stop bothering me!\"\n",
        "\n",
        "# subclass HappyChatbot\n",
        "class HappyChatbot(Chatbot):\n",
        "    def greet(self):\n",
        "        return f\"Hello! I am {self.name}. It's a wonderful day. How can I assist you?\"\n",
        "\n"
      ],
      "metadata": {
        "id": "82bVIuCzxXfH"
      },
      "execution_count": null,
      "outputs": []
    },
    {
      "cell_type": "markdown",
      "source": [
        "> ⚠️ Attention: the attribute called `name` is not implemented in the `subclasses` because they have this attributes inherited from `superclass`"
      ],
      "metadata": {
        "id": "a6eSf7_nyh8-"
      }
    },
    {
      "cell_type": "code",
      "source": [
        "s_cb = Chatbot(name=\"S-Bot\")\n",
        "a_cb = AngryChatbot(name=\"A-Bot\")\n",
        "h_cb = HappyChatbot(name=\"H-Bot\")\n",
        "\n",
        "print(\n",
        "  f\"\"\"\n",
        "- atrribute name: {s_cb.name}\n",
        "{Color.GREEN}* Standard grettings: {s_cb.greet()} {Color.RESET}\n",
        "\n",
        "- atrribute name: {a_cb.name}\n",
        "{Color.GREEN}* Angry grettings: {a_cb.greet()} {Color.RESET}\n",
        "\n",
        "- atrribute name: {h_cb.name}\n",
        "{Color.GREEN}* Hapy grettings: {h_cb.greet()} {Color.RESET}\n",
        "\n",
        "  \"\"\" )"
      ],
      "metadata": {
        "colab": {
          "base_uri": "https://localhost:8080/"
        },
        "id": "CtLiOPGVyhZi",
        "outputId": "d5e7b20b-81d4-4d4f-913e-32cb79a0f578"
      },
      "execution_count": null,
      "outputs": [
        {
          "output_type": "stream",
          "name": "stdout",
          "text": [
            "\n",
            "- atrribute name: S-Bot\n",
            "\u001b[92m* Standard grettings: Hello! I am S-Bot. \u001b[0m\n",
            "\n",
            "- atrribute name: A-Bot\n",
            "\u001b[92m* Angry grettings: I am A-Bot, what do you want? Stop bothering me! \u001b[0m\n",
            "\n",
            "- atrribute name: H-Bot\n",
            "\u001b[92m* Hapy grettings: Hello! I am H-Bot. It's a wonderful day. How can I assist you? \u001b[0m\n",
            "\n",
            "  \n"
          ]
        }
      ]
    },
    {
      "cell_type": "markdown",
      "source": [
        "### 👨🏻‍💻 super() method"
      ],
      "metadata": {
        "id": "Dw2QIdLH6tpF"
      }
    },
    {
      "cell_type": "markdown",
      "source": [
        "\n",
        "The `super()` method is used to call a method or attribute from a `superclass`.\n",
        "\n",
        "It's often used in the `__init__` method of a `subclass` to invoke the constructor of the parent class."
      ],
      "metadata": {
        "id": "1oqEno1PIkoe"
      }
    },
    {
      "cell_type": "markdown",
      "source": [
        "Let´s see if we can call the `greet()` method of the `superclass` `Chatbot`"
      ],
      "metadata": {
        "id": "jvb_k6FBI7iO"
      }
    },
    {
      "cell_type": "code",
      "source": [
        "# Call the greet method of AngryChatBot\n",
        "print(a_cb.greet())  # Output: I am Grumpy Bot, what do you want? Stop bothering me!\n",
        "\n",
        "# Call the greet method of the superclass Chatbot using super\n",
        "super(AngryChatbot, a_cb).greet()  # Output: Hello! I am Grumpy Bot."
      ],
      "metadata": {
        "colab": {
          "base_uri": "https://localhost:8080/",
          "height": 52
        },
        "id": "IiLIo7Zx3Q1Q",
        "outputId": "01a20f7f-5e01-487e-9417-057bedb7d8f8"
      },
      "execution_count": null,
      "outputs": [
        {
          "output_type": "stream",
          "name": "stdout",
          "text": [
            "I am A-Bot, what do you want? Stop bothering me!\n"
          ]
        },
        {
          "output_type": "execute_result",
          "data": {
            "text/plain": [
              "'I am A-Bot, how can I help you?'"
            ],
            "application/vnd.google.colaboratory.intrinsic+json": {
              "type": "string"
            }
          },
          "metadata": {},
          "execution_count": 9
        }
      ]
    },
    {
      "cell_type": "markdown",
      "source": [
        "> 🤔 This shows that the Angry Chatbot inherits the features of the Chatbot class even if it is not implemented in the subclass. Consequently, we can imitate the superclass behavior."
      ],
      "metadata": {
        "id": "Rvwv-ISbJIqQ"
      }
    },
    {
      "cell_type": "code",
      "source": [
        "a_cb.__class__"
      ],
      "metadata": {
        "colab": {
          "base_uri": "https://localhost:8080/"
        },
        "id": "xF1cIlWJ97R-",
        "outputId": "23150a08-42ae-423c-a3f2-fc489e0a3bc9"
      },
      "execution_count": null,
      "outputs": [
        {
          "output_type": "execute_result",
          "data": {
            "text/plain": [
              "__main__.AngryChatbot"
            ]
          },
          "metadata": {},
          "execution_count": 16
        }
      ]
    },
    {
      "cell_type": "code",
      "source": [
        "type(a_cb)"
      ],
      "metadata": {
        "colab": {
          "base_uri": "https://localhost:8080/"
        },
        "id": "8LMZt9qR-HJn",
        "outputId": "7e5bdac1-19d6-4470-c76d-d29bb2d3f4e6"
      },
      "execution_count": null,
      "outputs": [
        {
          "output_type": "execute_result",
          "data": {
            "text/plain": [
              "__main__.AngryChatbot"
            ]
          },
          "metadata": {},
          "execution_count": 11
        }
      ]
    },
    {
      "cell_type": "code",
      "source": [
        "print(super(a_cb.__class__, a_cb).greet())  # Output: Hello! I am Grumpy Bot.\n",
        "print(super(type(a_cb), a_cb).greet())  # Output: Hello! I am Grumpy Bot."
      ],
      "metadata": {
        "colab": {
          "base_uri": "https://localhost:8080/"
        },
        "id": "IFAnIQ2l-Axw",
        "outputId": "f7b48ccf-21f8-47ac-9d3d-911fe1ce2139"
      },
      "execution_count": null,
      "outputs": [
        {
          "output_type": "stream",
          "name": "stdout",
          "text": [
            "I am A-Bot, how can I help you?\n",
            "Hello! I am A-Bot.\n"
          ]
        }
      ]
    },
    {
      "cell_type": "code",
      "source": [
        "isinstance(a_cb, Chatbot)"
      ],
      "metadata": {
        "colab": {
          "base_uri": "https://localhost:8080/"
        },
        "id": "uicJi6AnKJQ2",
        "outputId": "0779e445-7094-4cdb-ce1c-c5043bc0095a"
      },
      "execution_count": null,
      "outputs": [
        {
          "output_type": "execute_result",
          "data": {
            "text/plain": [
              "True"
            ]
          },
          "metadata": {},
          "execution_count": 17
        }
      ]
    },
    {
      "cell_type": "code",
      "source": [
        "isinstance(a_cb, AngryChatbot)"
      ],
      "metadata": {
        "colab": {
          "base_uri": "https://localhost:8080/"
        },
        "id": "yeTAEWRkKP0D",
        "outputId": "54b52014-4c62-441e-ef2a-88d5fc0d23a7"
      },
      "execution_count": null,
      "outputs": [
        {
          "output_type": "execute_result",
          "data": {
            "text/plain": [
              "True"
            ]
          },
          "metadata": {},
          "execution_count": 18
        }
      ]
    },
    {
      "cell_type": "code",
      "source": [
        "isinstance(a_cb, HappyChatbot)"
      ],
      "metadata": {
        "colab": {
          "base_uri": "https://localhost:8080/"
        },
        "id": "Va4h1TwJKiQB",
        "outputId": "d65c7959-9688-4df4-c494-e075a21ab6cb"
      },
      "execution_count": null,
      "outputs": [
        {
          "output_type": "execute_result",
          "data": {
            "text/plain": [
              "False"
            ]
          },
          "metadata": {},
          "execution_count": 19
        }
      ]
    },
    {
      "cell_type": "markdown",
      "source": [
        "### 👨🏻‍💻 Some class methods"
      ],
      "metadata": {
        "id": "Tto9X1udKn-C"
      }
    },
    {
      "cell_type": "code",
      "source": [
        "a_cb.__str__"
      ],
      "metadata": {
        "colab": {
          "base_uri": "https://localhost:8080/"
        },
        "id": "Kxueb1iU-18K",
        "outputId": "614eee06-dabc-45b5-b073-ea018a3eb3dd"
      },
      "execution_count": null,
      "outputs": [
        {
          "output_type": "execute_result",
          "data": {
            "text/plain": [
              "<method-wrapper '__str__' of AngryChatbot object at 0x7ef52be23a30>"
            ]
          },
          "metadata": {},
          "execution_count": 20
        }
      ]
    },
    {
      "cell_type": "code",
      "source": [
        "a_cb.__repr__"
      ],
      "metadata": {
        "colab": {
          "base_uri": "https://localhost:8080/"
        },
        "id": "UPlLX-AK-9u2",
        "outputId": "777b425f-4b2c-4b0e-bb2d-0919f54a1a5f"
      },
      "execution_count": null,
      "outputs": [
        {
          "output_type": "execute_result",
          "data": {
            "text/plain": [
              "<method-wrapper '__repr__' of AngryChatbot object at 0x783875e0b9a0>"
            ]
          },
          "metadata": {},
          "execution_count": 17
        }
      ]
    },
    {
      "cell_type": "code",
      "source": [
        "s_cb.__dict__"
      ],
      "metadata": {
        "colab": {
          "base_uri": "https://localhost:8080/"
        },
        "id": "mVE7kbl6_SKc",
        "outputId": "f6249178-9729-4975-93cd-f99530d19c47"
      },
      "execution_count": null,
      "outputs": [
        {
          "output_type": "execute_result",
          "data": {
            "text/plain": [
              "{'name': 'S-Bot'}"
            ]
          },
          "metadata": {},
          "execution_count": 18
        }
      ]
    },
    {
      "cell_type": "code",
      "source": [
        "s_cb.__class__.__dict__"
      ],
      "metadata": {
        "colab": {
          "base_uri": "https://localhost:8080/"
        },
        "id": "8SGbLaNFAT1r",
        "outputId": "43a35aa3-bd22-4bbe-fe8f-d941da9b15b0"
      },
      "execution_count": null,
      "outputs": [
        {
          "output_type": "execute_result",
          "data": {
            "text/plain": [
              "mappingproxy({'__module__': '__main__',\n",
              "              'name': '',\n",
              "              '__init__': <function __main__.Chatbot.__init__(self, name)>,\n",
              "              'greet': <function __main__.Chatbot.greet(self)>,\n",
              "              '__dict__': <attribute '__dict__' of 'Chatbot' objects>,\n",
              "              '__weakref__': <attribute '__weakref__' of 'Chatbot' objects>,\n",
              "              '__doc__': None})"
            ]
          },
          "metadata": {},
          "execution_count": 19
        }
      ]
    },
    {
      "cell_type": "code",
      "source": [
        "[(k,v) for k,v in s_cb.__class__.__dict__.items()]"
      ],
      "metadata": {
        "colab": {
          "base_uri": "https://localhost:8080/"
        },
        "id": "FQNKLwn4_a68",
        "outputId": "49a06bfe-ad0d-4071-b5fd-8f150eff6ed2"
      },
      "execution_count": null,
      "outputs": [
        {
          "output_type": "execute_result",
          "data": {
            "text/plain": [
              "[('__module__', '__main__'),\n",
              " ('name', ''),\n",
              " ('__init__', <function __main__.Chatbot.__init__(self, name)>),\n",
              " ('greet', <function __main__.Chatbot.greet(self)>),\n",
              " ('__dict__', <attribute '__dict__' of 'Chatbot' objects>),\n",
              " ('__weakref__', <attribute '__weakref__' of 'Chatbot' objects>),\n",
              " ('__doc__', None)]"
            ]
          },
          "metadata": {},
          "execution_count": 20
        }
      ]
    },
    {
      "cell_type": "markdown",
      "source": [
        "In Python 3.10 and above, the behavior you're observing is related to the changes in the `__class__.__dict__` representation for classes.  \n",
        "\n",
        "- A new feature called **\"Static Class Dict\"** was introduced to optimize attribute access for classes.\n",
        "\n",
        "- This means that class attributes and methods are now stored in a way that might not include instance-specific attributes like self.z.\n",
        "\n",
        "- In code below, self.z is an instance-specific attribute, and it is not stored in the class's __class__.__dict__. It's only associated with instances of the class, not with the class itself."
      ],
      "metadata": {
        "id": "36Tbtn4QPuG6"
      }
    },
    {
      "cell_type": "code",
      "source": [
        "class MyClass:\n",
        "    x : int = 10\n",
        "    y = 20\n",
        "    z = 10\n",
        "    def __init__(self, z):\n",
        "      self.z = z\n",
        "    def print_x(self):\n",
        "      print(self.x)\n",
        "\n",
        "obj = MyClass(z = 30)\n",
        "elements = [(k,v) for k,v in obj.__class__.__dict__.items()]\n",
        "\n",
        "for e in elements:\n",
        "  print(e)\n",
        "\n",
        "\n",
        "obj.print_x()\n",
        "\n"
      ],
      "metadata": {
        "colab": {
          "base_uri": "https://localhost:8080/"
        },
        "id": "a7iFH3cSNYqI",
        "outputId": "18b0535c-ca32-460e-a65a-99ecce6973d3"
      },
      "execution_count": null,
      "outputs": [
        {
          "output_type": "stream",
          "name": "stdout",
          "text": [
            "('__module__', '__main__')\n",
            "('x', 10)\n",
            "('y', 20)\n",
            "('z', 10)\n",
            "('__init__', <function MyClass.__init__ at 0x7ef528d2f2e0>)\n",
            "('print_x', <function MyClass.print_x at 0x7ef528d2f250>)\n",
            "('__dict__', <attribute '__dict__' of 'MyClass' objects>)\n",
            "('__weakref__', <attribute '__weakref__' of 'MyClass' objects>)\n",
            "('__doc__', None)\n",
            "10\n"
          ]
        }
      ]
    },
    {
      "cell_type": "markdown",
      "source": [
        "### 👨🏻‍💻 Override and Overloading in Python\n",
        "\n",
        "> More about `Polymorphism`"
      ],
      "metadata": {
        "id": "dh0yBEc4R-5h"
      }
    },
    {
      "cell_type": "markdown",
      "source": [
        "#### 👨🏻‍💻 **Method overriding**\n",
        "\n",
        "Method overriding allows a subclass to provide its own implementation of a method inherited from a superclass. This customization helps tailor the behavior of the subclass.\n",
        "\n",
        "Example:"
      ],
      "metadata": {
        "id": "Ylf1P22tSPCe"
      }
    },
    {
      "cell_type": "code",
      "source": [
        "class Animal:\n",
        "    def speak(self):\n",
        "        print(\"Animal speaks\")\n",
        "\n",
        "class Dog(Animal):\n",
        "    def speak(self):\n",
        "        print(\"Dog barks\")\n",
        "\n",
        "dog = Dog()\n",
        "dog.speak()  # Output: Dog barks\n"
      ],
      "metadata": {
        "colab": {
          "base_uri": "https://localhost:8080/"
        },
        "id": "lq18q21IST6e",
        "outputId": "8c6cbf4e-c429-4948-cb1f-46fc8906a950"
      },
      "execution_count": null,
      "outputs": [
        {
          "output_type": "stream",
          "name": "stdout",
          "text": [
            "Dog barks\n"
          ]
        }
      ]
    },
    {
      "cell_type": "markdown",
      "source": [
        "#### 👨🏻‍💻 **Overloading error in python**"
      ],
      "metadata": {
        "id": "LsYX9zQ_XsYD"
      }
    },
    {
      "cell_type": "code",
      "source": [
        "class A:\n",
        "  def __init__(self, a):\n",
        "    self.a = a\n",
        "\n",
        "  def ax(self):\n",
        "    return self.a + 'x'\n",
        "\n",
        "  def ax(self, suffix):\n",
        "    return self.a + 'x' + suffix"
      ],
      "metadata": {
        "id": "HO3-E1XlJhRm"
      },
      "execution_count": null,
      "outputs": []
    },
    {
      "cell_type": "markdown",
      "source": [
        "> ⚠️ The code below will raise an error."
      ],
      "metadata": {
        "id": "katUQcRVM9vw"
      }
    },
    {
      "cell_type": "code",
      "source": [
        "a1 = A(\"AAA\")\n",
        "\n",
        "try:\n",
        "  # Attempt to call an unknown method\n",
        "  #eval(\"a1.ax()\")\n",
        "  ...\n",
        "except SyntaxError:\n",
        "  # Handle the AttributeError\n",
        "  print(\"Method does not exist on the object\")\n"
      ],
      "metadata": {
        "id": "prxm7zJkJ97t"
      },
      "execution_count": null,
      "outputs": []
    },
    {
      "cell_type": "markdown",
      "source": [
        "#### 👨🏻‍💻 **Method overloading**\n",
        "\n",
        "Method overloading, as traditionally seen in languages like Java, is not supported. Python doesn't allow multiple methods with the same name and different parameter lists in the same class.\n",
        "\n",
        "However, you can create flexible methods by using default arguments and variable-length argument lists to handle different parameter variations"
      ],
      "metadata": {
        "id": "bGMAYxmmSc2t"
      }
    },
    {
      "cell_type": "code",
      "source": [
        "class Calculator:\n",
        "    def add(self, a, b=0, c=0):\n",
        "        return a + b + c\n",
        "\n",
        "calc = Calculator()\n",
        "result1 = calc.add(1)\n",
        "result2 = calc.add(1, 2)\n",
        "result3 = calc.add(1, 2, 3)\n",
        "\n",
        "print(result1)  # Output: 1\n",
        "print(result2)  # Output: 3\n",
        "print(result3)  # Output: 6"
      ],
      "metadata": {
        "colab": {
          "base_uri": "https://localhost:8080/"
        },
        "id": "HDr5t-APSkbS",
        "outputId": "ec52e33b-9076-455c-ee14-9b853b46680b"
      },
      "execution_count": null,
      "outputs": [
        {
          "output_type": "stream",
          "name": "stdout",
          "text": [
            "1\n",
            "3\n",
            "6\n"
          ]
        }
      ]
    },
    {
      "cell_type": "markdown",
      "source": [
        "#### 👨🏻‍💻 \\*args and \\**kwargs"
      ],
      "metadata": {
        "id": "ZG8foamgTIbj"
      }
    },
    {
      "cell_type": "markdown",
      "source": [
        "In Python, method overloading is not a built-in feature like it is in some other languages (e.g., Java or C++), and it cannot be achieved using `*args` and `**kwargs` in the traditional sense of function/method overloading. Method overloading typically refers to defining multiple methods in a class with the same name but different parameter lists, and Python doesn't support this feature directly.\n",
        "\n",
        "However, you can simulate method overloading and create flexible methods using `*args` and `**kwargs` to handle different argument variations.\n",
        "\n",
        "This allows a single method to accept varying numbers and types of arguments, providing a form of method \"overloading\" based on how you call the method.\n",
        "\n"
      ],
      "metadata": {
        "id": "PvaE9-YFTOV8"
      }
    },
    {
      "cell_type": "markdown",
      "source": [
        "`*args`: It allows you to pass a variable number of non-keyword arguments to a function or method.\n",
        "\n",
        "- ⚠️ The asterisk (*) before args denotes that it collects additional positional arguments into a tuple.\n",
        "\n",
        "Example:"
      ],
      "metadata": {
        "id": "Gr8h1HC_UZKE"
      }
    },
    {
      "cell_type": "code",
      "source": [
        "def add(*args):\n",
        "    result = 0\n",
        "    for num in args:\n",
        "        result += num\n",
        "    return result\n",
        "\n",
        "sum_result = add(1, 2, 3, 4)\n",
        "print(sum_result)  # Output: 10\n"
      ],
      "metadata": {
        "colab": {
          "base_uri": "https://localhost:8080/"
        },
        "id": "PUeCoCYlUDcO",
        "outputId": "3b0813c8-377f-4b6c-d18d-cdf88649f63d"
      },
      "execution_count": null,
      "outputs": [
        {
          "output_type": "stream",
          "name": "stdout",
          "text": [
            "10\n"
          ]
        }
      ]
    },
    {
      "cell_type": "markdown",
      "source": [
        "`**kwargs`: It allows you to pass a variable number of keyword arguments to a function or method.\n",
        "\n",
        "- ⚠️ The double asterisk (**) before kwargs denotes that it collects additional keyword arguments into a dictionary.\n",
        "\n",
        "Example:"
      ],
      "metadata": {
        "id": "t9gQr9nGULAX"
      }
    },
    {
      "cell_type": "code",
      "source": [
        "def print_info(**kwargs):\n",
        "    for key, value in kwargs.items():\n",
        "        print(f\"{key}: {value}\")\n",
        "\n",
        "print_info(name=\"Alice\", age=30, city=\"New York\")\n",
        "\n"
      ],
      "metadata": {
        "colab": {
          "base_uri": "https://localhost:8080/"
        },
        "id": "kJSuAPdOUNRi",
        "outputId": "dc6b3c8a-f4f2-414a-841f-ab30b6163dd1"
      },
      "execution_count": null,
      "outputs": [
        {
          "output_type": "stream",
          "name": "stdout",
          "text": [
            "name: Alice\n",
            "age: 30\n",
            "city: New York\n"
          ]
        }
      ]
    },
    {
      "cell_type": "markdown",
      "source": [
        "Overloading conclusions:\n",
        "\n",
        "Indeed, in conclusion, method overloading can be emulated effectively in Python by utilizing techniques such as:\n",
        "\n",
        "- by using default arguments and variable-length argument lists to handle different parameter variations\n",
        "```python\n",
        "def add(self, a, b=0, c=0)\n",
        "```\n",
        "- *args, and\n",
        "```python\n",
        "def add(*args)\n",
        "```\n",
        "- **kwargs within the method's signature of a class.\n",
        "```python\n",
        "def print_info(**kwargs)\n",
        "```\n",
        "\n",
        "> This approach offers versatility and adaptability in handling diverse argument scenarios, enhancing the flexibility of your code.\n"
      ],
      "metadata": {
        "id": "KIbJQaHnVXcJ"
      }
    },
    {
      "cell_type": "markdown",
      "source": [
        "## 👨🏻‍💻 Decorators"
      ],
      "metadata": {
        "id": "dUtC_ltsh8cX"
      }
    },
    {
      "cell_type": "markdown",
      "source": [
        "Decorators are a powerful and flexible feature in Python that allow you to modify or enhance the behavior of functions or methods without changing their source code. A common use case for decorators is to measure the execution time of a function or method. Here's how you can create a timer decorator and use it in a class method:"
      ],
      "metadata": {
        "id": "2I31k0eniV1c"
      }
    },
    {
      "cell_type": "code",
      "source": [
        "import time\n",
        "\n",
        "# Timer decorator\n",
        "def timing_decorator(func):\n",
        "    def wrapper(*args, **kwargs):\n",
        "        start_time = time.time()\n",
        "\n",
        "        result = func(*args, **kwargs)\n",
        "\n",
        "        end_time = time.time()\n",
        "        execution_time = end_time - start_time\n",
        "        print(f\"{func.__name__} took {execution_time:.2f} seconds to execute\")\n",
        "        return result\n",
        "    return wrapper\n",
        "\n",
        "class Calculator:\n",
        "    @timing_decorator\n",
        "    def process(self):\n",
        "        print(\"Processing...\")\n",
        "        time.sleep(2)  # Sleep for 2 seconds (simulating a time-consuming operation)\n",
        "\n",
        "# Creating an instance of the Calculator class\n",
        "calculator = Calculator()\n",
        "\n",
        "# Calling the process method (decorated with the timer)\n",
        "calculator.process()\n"
      ],
      "metadata": {
        "colab": {
          "base_uri": "https://localhost:8080/"
        },
        "id": "Zp0lFW6Qhwke",
        "outputId": "f2874178-2e26-497e-9922-6212facc2310"
      },
      "execution_count": null,
      "outputs": [
        {
          "output_type": "stream",
          "name": "stdout",
          "text": [
            "Processing...\n"
          ]
        }
      ]
    },
    {
      "cell_type": "markdown",
      "source": [
        "😎 Code explanations:\n",
        "\n",
        "We define a timing_decorator function that takes a function func as an argument and returns a wrapper function. The wrapper function records the start time, calls the original function, records the end time, calculates the execution time, and prints it.\n",
        "\n",
        "We create a Calculator class with a process method, which is decorated with @timing_decorator. This means that when we call calculator.process(), it will execute the process method and also measure its execution time using the decorator.\n",
        "\n",
        "Inside the process method, there's a call to time.sleep(2) to simulate a time-consuming operation.\n",
        "\n",
        "When you run the code, you'll see the execution time of the process method printed to the console, indicating how long it took to complete. The decorator allows you to add this timing functionality to the method without modifying the method's code directly."
      ],
      "metadata": {
        "id": "mY8As6enj8FO"
      }
    },
    {
      "cell_type": "markdown",
      "source": [
        "## 📝 Naming conventions"
      ],
      "metadata": {
        "id": "zJ6AVkz2a9t_"
      }
    },
    {
      "cell_type": "markdown",
      "source": [
        "\n",
        "\n",
        "Naming conventions are important in Python for creating clean and readable code. Here are the naming conventions for Python classes, attributes (instance variables), and methods (functions):\n",
        "\n",
        "**Class Names:**\n",
        "\n",
        "- Should be in CamelCase.\n",
        "- Start with an uppercase letter.\n",
        "- Use nouns or noun phrases that describe the class's purpose.\n",
        "\n",
        "Example: **`ChatBot`**, **`PersonDetails`**\n",
        "\n",
        "**Attributes (Instance Variables):**\n",
        "\n",
        "- Use lowercase letters and separate words with underscores (snake_case).\n",
        "- Attribute names should be descriptive but concise.\n",
        "- Prefix protected attributes with a single underscore.\n",
        "- Prefix private attributes with a double underscore.\n",
        "\n",
        "Example: **`name`**, **`_age`**, **`__secret_data`**\n",
        "\n",
        "**Methods (Functions):**\n",
        "\n",
        "- Use lowercase letters and separate words with underscores (snake_case).\n",
        "- Method names should be verbs or verb phrases that describe the action the method performs.\n",
        "- Prefix protected methods with a single underscore.\n",
        "- Prefix private methods with a double underscore.\n",
        "\n",
        "Example: **`get_name()`**, **`_calculate_age()`**, **`__internal_method()`**"
      ],
      "metadata": {
        "id": "3mGmCIecafQG"
      }
    },
    {
      "cell_type": "code",
      "source": [
        "class StudentRecord:\n",
        "    def __init__(self, name, age):\n",
        "        self._name = name  # Protected attribute\n",
        "        self.__age = age   # Private attribute\n",
        "\n",
        "    def get_name(self):\n",
        "        \"\"\"Get the student's name.\"\"\"\n",
        "        return self._name\n",
        "\n",
        "    def _calculate_age(self):\n",
        "        \"\"\"Calculate the student's age.\"\"\"\n",
        "        # This is a protected method.\n",
        "        return self.__age\n",
        "\n",
        "    def __display_info(self):\n",
        "        \"\"\"Display private information.\"\"\"\n",
        "        # This is a private method.\n",
        "        print(f\"Name: {self._name}, Age: {self.__age}\")\n",
        "\n",
        "# Creating an instance of the class\n",
        "student1 = StudentRecord(\"Alice\", 25)\n",
        "\n",
        "# Accessing attributes and methods\n",
        "name = student1.get_name()\n",
        "age = student1._calculate_age()\n",
        "\n",
        "print(f\"Student Name: {name}\")\n",
        "print(f\"Student Age: {age}\")"
      ],
      "metadata": {
        "id": "gJhRfnoIaewk",
        "outputId": "f5e1aaaf-5afc-4d52-e313-c680d3d3decc",
        "colab": {
          "base_uri": "https://localhost:8080/"
        }
      },
      "execution_count": null,
      "outputs": [
        {
          "output_type": "stream",
          "name": "stdout",
          "text": [
            "Student Name: Alice\n",
            "Student Age: Alice\n"
          ]
        }
      ]
    },
    {
      "cell_type": "markdown",
      "source": [
        "In this example, we follow the naming conventions for classes, attributes, and methods. We have a class **`StudentRecord`** with attributes **`_name`** (protected) and **`__age`** (private). We also have methods **`get_name()`** (public), **`_calculate_age()`** (protected), and **`__display_info()`** (private).\n",
        "\n",
        "By adhering to these conventions, the code becomes more organized and easier to understand. Public methods and attributes can be accessed directly, while protected and private ones have prefixes to indicate their visibility.\n",
        "\n"
      ],
      "metadata": {
        "id": "JsYFZoUUasBD"
      }
    },
    {
      "cell_type": "markdown",
      "source": [
        "##  💎 More concepts"
      ],
      "metadata": {
        "id": "Ymu5RirobvT1"
      }
    },
    {
      "cell_type": "markdown",
      "source": [
        "`@staticmethod`:\n",
        "\n",
        "- A static method is a method that belongs to a class rather than an instance of the class.\n",
        "\n",
        "- It doesn't have access to instance-specific data or attributes.\n",
        "Static methods are defined using the `@staticmethod` decorator.\n",
        "\n",
        "- They are typically used for utility functions that don't depend on the state of an instance.\n",
        "Example:"
      ],
      "metadata": {
        "id": "OjIw39NRcOp8"
      }
    },
    {
      "cell_type": "code",
      "source": [
        "class MathUtils:\n",
        "    @staticmethod\n",
        "    def add(x, y):\n",
        "        return x + y\n",
        "\n",
        "result = MathUtils.add(5, 3)  # Calling the static method without creating an instance\n",
        "print(result)  # Output: 8\n"
      ],
      "metadata": {
        "colab": {
          "base_uri": "https://localhost:8080/"
        },
        "id": "bQdnaP5bcZkH",
        "outputId": "03a04cce-f1cc-4db5-cb02-7d0a248985ef"
      },
      "execution_count": null,
      "outputs": [
        {
          "output_type": "stream",
          "name": "stdout",
          "text": [
            "8\n"
          ]
        }
      ]
    },
    {
      "cell_type": "markdown",
      "source": [
        "> 😎 Code explanation: In this example, add is a static method of the MathUtils class, and you can call it directly on the class itself without creating an instance of MathUtils."
      ],
      "metadata": {
        "id": "hJH3W4DhdWZ_"
      }
    },
    {
      "cell_type": "markdown",
      "source": [
        "`@property`:\n",
        "\n",
        "- A property is a special method that allows you to access an attribute like it's an attribute, rather than a method.\n",
        "\n",
        "- It can be used to define getters and setters for class attributes.\n",
        "\n",
        "- Properties are defined using the `@property` decorator for getters and the `@<attribute>.setter` decorator for setters."
      ],
      "metadata": {
        "id": "UwvdNGJLcgXA"
      }
    },
    {
      "cell_type": "code",
      "source": [
        "class Circle:\n",
        "    def __init__(self, radius):\n",
        "        self._radius = radius  # Note the underscore as a naming convention for protected attributes\n",
        "\n",
        "    @property\n",
        "    def radius(self):\n",
        "        return 0.1 + self._radius\n",
        "\n",
        "    @radius.setter\n",
        "    def radius(self, value):\n",
        "        if value < 0:\n",
        "            raise ValueError(\"Radius cannot be negative\")\n",
        "        self._radius = value\n",
        "\n",
        "circle = Circle(5)\n",
        "print(circle.radius)  # Accessing the radius attribute using a property\n",
        "circle.radius = 7     # Setting the radius attribute using a property\n"
      ],
      "metadata": {
        "colab": {
          "base_uri": "https://localhost:8080/"
        },
        "id": "hBY5KByRc1KT",
        "outputId": "54b37286-2cff-4a54-97c6-0b41bfc802d8"
      },
      "execution_count": null,
      "outputs": [
        {
          "output_type": "stream",
          "name": "stdout",
          "text": [
            "5\n"
          ]
        }
      ]
    },
    {
      "cell_type": "markdown",
      "source": [
        "> 😎 Code explanation: In this example, radius is a property of the Circle class. The @property decorator defines the getter, and @radius.setter defines the setter. This allows you to access and modify the radius attribute as if it were a regular attribute, while still providing validation and control.\n",
        ">\n",
        "> These decorators help make your code more Pythonic and maintainable by encapsulating behavior and making it clear how to interact with class attributes and methods."
      ],
      "metadata": {
        "id": "tHycOK7ydGpJ"
      }
    },
    {
      "cell_type": "code",
      "source": [
        "circle._radius"
      ],
      "metadata": {
        "colab": {
          "base_uri": "https://localhost:8080/"
        },
        "id": "HdCBKmnNc27g",
        "outputId": "1c77655b-b0ed-4707-cc29-346b5beb8d42"
      },
      "execution_count": null,
      "outputs": [
        {
          "output_type": "execute_result",
          "data": {
            "text/plain": [
              "7"
            ]
          },
          "metadata": {},
          "execution_count": 39
        }
      ]
    },
    {
      "cell_type": "markdown",
      "source": [
        "In Python, attributes with a single underscore _ and double underscore __ have special meanings and are used to indicate different levels of visibility or access control.\n",
        "\n",
        "1. Protected Attributes (Single Underscore _):\n",
        "\n",
        "Attributes with a single underscore, such as _variable, are considered \"protected\" by convention.\n",
        "These attributes are not intended for public use, but they are still accessible from outside the class.\n",
        "The single underscore indicates to other developers that they should be treated as non-public, and their usage should be limited.\n",
        "Example:"
      ],
      "metadata": {
        "id": "ubnvsCNrdv7G"
      }
    },
    {
      "cell_type": "code",
      "source": [
        "class MyClass:\n",
        "    def __init__(self):\n",
        "        self._protected_var = 10\n",
        "\n",
        "    def print_protected(self):\n",
        "        print(self._protected_var)\n",
        "\n",
        "obj = MyClass()\n",
        "print(obj._protected_var)  # Accessing the protected attribute\n",
        "obj.print_protected()      # Accessing it through a method\n"
      ],
      "metadata": {
        "colab": {
          "base_uri": "https://localhost:8080/"
        },
        "id": "53Yuu4PGdyQ-",
        "outputId": "4d238d2d-7040-49f5-e617-8f7b5b1b7fae"
      },
      "execution_count": null,
      "outputs": [
        {
          "output_type": "stream",
          "name": "stdout",
          "text": [
            "10\n",
            "10\n"
          ]
        }
      ]
    },
    {
      "cell_type": "markdown",
      "source": [
        "2. Private Attributes (Double Underscore __):\n",
        "\n",
        "Attributes with a double underscore, such as __variable, are considered \"private\" by convention.\n",
        "These attributes are meant to be private and should not be accessed directly from outside the class.\n",
        "Python uses name mangling to make it harder to access these attributes directly.\n",
        "Example:"
      ],
      "metadata": {
        "id": "ZS0lP5Bwd5Vb"
      }
    },
    {
      "cell_type": "code",
      "source": [
        "class MyClass:\n",
        "    def __init__(self):\n",
        "        self.__private_var = 20\n",
        "\n",
        "    def print_private(self):\n",
        "        print(self.__private_var)\n",
        "\n",
        "obj = MyClass()\n",
        "\n",
        "# This will raise an AttributeError because the name is mangled:\n",
        "# print(obj.__private_var)\n",
        "\n",
        "# Accessing it through a method is allowed:\n",
        "obj.print_private()\n"
      ],
      "metadata": {
        "colab": {
          "base_uri": "https://localhost:8080/"
        },
        "id": "5RdvSLVRd88k",
        "outputId": "cfa50395-cbe5-452c-b576-72e0b0a6a429"
      },
      "execution_count": null,
      "outputs": [
        {
          "output_type": "stream",
          "name": "stdout",
          "text": [
            "20\n"
          ]
        }
      ]
    },
    {
      "cell_type": "code",
      "source": [
        "# error\n",
        "# obj.__private"
      ],
      "metadata": {
        "id": "aBzqoDmWd_NM"
      },
      "execution_count": null,
      "outputs": []
    },
    {
      "cell_type": "markdown",
      "source": [
        "## 💎 Other Types of classes"
      ],
      "metadata": {
        "id": "RLEp9c3nvbO3"
      }
    },
    {
      "cell_type": "markdown",
      "source": [
        "In Python, there are several types of classes that serve different purposes. Here are some of the common types of classes in Python:"
      ],
      "metadata": {
        "id": "2gSrHhM2eooo"
      }
    },
    {
      "cell_type": "markdown",
      "source": [
        "### 👨🏻‍💻 Regular Class:\n",
        "\n",
        "Regular classes are the most common type of classes in Python.\n",
        "They can have attributes, methods, and can be instantiated to create objects.\n",
        "Example:"
      ],
      "metadata": {
        "id": "GAGWtSuPesS3"
      }
    },
    {
      "cell_type": "code",
      "source": [
        "class Person:\n",
        "    name = \"\"\n",
        "    def __init__(self, name, age):\n",
        "        self.name = name\n",
        "        self.age = age\n",
        "\n",
        "    def greet(self):\n",
        "        return f\"Hello, my name is {self.name} and I am {self.age} years old.\"\n",
        "\n",
        "person = Person(\"Alice\", 30)\n",
        "print(person.greet())\n"
      ],
      "metadata": {
        "colab": {
          "base_uri": "https://localhost:8080/"
        },
        "id": "gSzwIADwe2mF",
        "outputId": "55ed36da-c885-4a83-86d4-69ee8aa49c81"
      },
      "execution_count": null,
      "outputs": [
        {
          "output_type": "stream",
          "name": "stdout",
          "text": [
            "Hello, my name is Alice and I am 30 years old.\n"
          ]
        }
      ]
    },
    {
      "cell_type": "code",
      "source": [
        "person.__dict__"
      ],
      "metadata": {
        "id": "n2M2Fy6LzZhv",
        "outputId": "ee497847-9208-4ed4-8b34-2d7674b54622",
        "colab": {
          "base_uri": "https://localhost:8080/"
        }
      },
      "execution_count": null,
      "outputs": [
        {
          "output_type": "execute_result",
          "data": {
            "text/plain": [
              "{'name': 'Alice', 'age': 30}"
            ]
          },
          "metadata": {},
          "execution_count": 3
        }
      ]
    },
    {
      "cell_type": "markdown",
      "source": [
        "### 👨🏻‍💻 Data Class (Python 3.7+):\n",
        "\n",
        "Data classes are a special type of class introduced in Python 3.7.\n",
        "They are used for storing data and automatically generate special methods like `__init__` and `__repr__`."
      ],
      "metadata": {
        "id": "YKcQZfwJe4RD"
      }
    },
    {
      "cell_type": "code",
      "source": [
        "from dataclasses import dataclass\n",
        "\n",
        "@dataclass\n",
        "class Point:\n",
        "    x: int\n",
        "    y: int\n",
        "\n",
        "class AnotherPoint:\n",
        "    x: int = 0\n",
        "    y: int = 0\n",
        "    z = 10\n",
        "    def __init__(self, x, y):\n",
        "      self.x = x\n",
        "      self.y = y\n",
        "\n",
        "p = Point(1, 2)\n",
        "ap = AnotherPoint(1,2)\n",
        "print(p, p.__repr__)  # Output: Point(x=1, y=2)\n",
        "print(ap, ap.__dict__, ap.__repr__)\n",
        "print(ap.z)"
      ],
      "metadata": {
        "colab": {
          "base_uri": "https://localhost:8080/"
        },
        "id": "ZR6d8reCe8T5",
        "outputId": "988e3a85-f777-4353-d056-720e43b4db45"
      },
      "execution_count": null,
      "outputs": [
        {
          "output_type": "stream",
          "name": "stdout",
          "text": [
            "Point(x=1, y=2) <bound method Point.__repr__ of Point(x=1, y=2)>\n",
            "<__main__.AnotherPoint object at 0x783875e59690> {'x': 1, 'y': 2} <method-wrapper '__repr__' of AnotherPoint object at 0x783875e59690>\n",
            "10\n"
          ]
        }
      ]
    },
    {
      "cell_type": "markdown",
      "source": [
        "### 👨🏻‍💻 Abstract class\n",
        "\n",
        "Abstract Class with Subclass Implementation (Using abc module):\n",
        "\n",
        "Abstract classes define methods that must be implemented by concrete subclasses.\n",
        "They cannot be instantiated directly.\n",
        "Example:"
      ],
      "metadata": {
        "id": "d3eSylwtgHF7"
      }
    },
    {
      "cell_type": "code",
      "source": [
        "from abc import ABC, abstractmethod\n",
        "\n",
        "class Shape(ABC):\n",
        "    @abstractmethod\n",
        "    def area(self):\n",
        "        pass\n",
        "\n",
        "class Circle(Shape):\n",
        "    def __init__(self, radius):\n",
        "        self.radius = radius\n",
        "\n",
        "    def area(self):\n",
        "        return 3.14 * self.radius ** 2"
      ],
      "metadata": {
        "id": "0iwlreNgUyo2"
      },
      "execution_count": null,
      "outputs": []
    },
    {
      "cell_type": "markdown",
      "source": [
        "🏃‍♂️ Try comment `area` method of `Circle`"
      ],
      "metadata": {
        "id": "vPZaaAauguRW"
      }
    },
    {
      "cell_type": "code",
      "source": [
        "# error\n",
        "# s = Shape()\n",
        "\n",
        "c = Circle(radius=3)\n",
        "print(c.area())"
      ],
      "metadata": {
        "colab": {
          "base_uri": "https://localhost:8080/"
        },
        "id": "-Jg6SzHpgWqJ",
        "outputId": "bbaf64e9-bcdf-4013-d467-9db2fd0f6a5b"
      },
      "execution_count": null,
      "outputs": [
        {
          "output_type": "stream",
          "name": "stdout",
          "text": [
            "28.26\n"
          ]
        }
      ]
    },
    {
      "cell_type": "markdown",
      "source": [
        "### 👨🏻‍💻 Pydantic Class (For Data Validation):\n",
        "\n",
        "Pydantic is a library for data validation and parsing.\n",
        "Pydantic models define the structure of data and perform validation.\n",
        "Example:"
      ],
      "metadata": {
        "id": "kJcm79vLg_-U"
      }
    },
    {
      "cell_type": "code",
      "source": [
        "from pydantic import BaseModel\n",
        "\n",
        "class User(BaseModel):\n",
        "    username: str\n",
        "    email: str\n",
        "\n",
        "user_data = {\"username\": \"alice\", \"email\": \"alice@example.com\"}\n",
        "user = User(**user_data)\n",
        "\n",
        "print(user)"
      ],
      "metadata": {
        "colab": {
          "base_uri": "https://localhost:8080/"
        },
        "id": "Dr9Xjsh8hSbB",
        "outputId": "3b22853d-d4c4-4385-db28-487af95b5c13"
      },
      "execution_count": null,
      "outputs": [
        {
          "output_type": "stream",
          "name": "stdout",
          "text": [
            "username='alice' email='alice@example.com'\n"
          ]
        }
      ]
    },
    {
      "cell_type": "markdown",
      "source": [
        "Pydantic in FastAPI for Typed APIs:\n",
        "\n",
        "Pydantic is a Python library that works seamlessly with FastAPI to create typed and well-validated APIs.\n",
        "\n",
        "It offers:\n",
        "\n",
        "- Data Validation: Pydantic classes define data structures and validation rules for API requests and responses.\n",
        "\n",
        "- Automatic Documentation: FastAPI generates interactive documentation based on Pydantic models, making API usage clear for developers.\n",
        "\n",
        "- Type Hinting: Pydantic provides type hints for request and response data, improving code readability and enabling static type checking.\n",
        "\n",
        "- Serialization: Pydantic models assist in converting Python data to JSON and back when sending and receiving data from the API.\n",
        "\n",
        "Example:\n",
        "\n",
        "```python\n",
        "from fastapi import FastAPI\n",
        "from pydantic import BaseModel\n",
        "\n",
        "app = FastAPI()\n",
        "\n",
        "# Pydantic model for request data\n",
        "class Item(BaseModel):\n",
        "    name: str\n",
        "    description: str = None\n",
        "\n",
        "# API endpoint that expects an Item as input\n",
        "@app.post(\"/items/\")\n",
        "async def create_item(item: Item):\n",
        "    return {\"item\": item}\n",
        "\n",
        "# API endpoint with Pydantic response model\n",
        "@app.get(\"/items/{item_id}\", response_model=Item)\n",
        "async def read_item(item_id: int):\n",
        "    return {\"name\": \"Sample Item\", \"description\": \"A sample item\"}\n",
        "```"
      ],
      "metadata": {
        "id": "ArE3WuVNhi2z"
      }
    },
    {
      "cell_type": "markdown",
      "source": [
        "In this example, Pydantic models define data structure and validation for API requests, enabling automatic validation, documentation, and type hinting in FastAPI, resulting in a robust and well-documented API."
      ],
      "metadata": {
        "id": "bGWBLL_EhxJ5"
      }
    }
  ]
}