{
  "nbformat": 4,
  "nbformat_minor": 0,
  "metadata": {
    "colab": {
      "provenance": []
    },
    "kernelspec": {
      "name": "python3",
      "display_name": "Python 3"
    },
    "language_info": {
      "name": "python"
    }
  },
  "cells": [
    {
      "cell_type": "markdown",
      "source": [
        "# Exercise 1: Creating a Canvas for Drawing Shapes\n",
        "\n",
        "> 💬 Let’s write code to practice OOP - Object-Oriented Programming in Python\n"
      ],
      "metadata": {
        "id": "aeoQMdnKkre1"
      }
    },
    {
      "cell_type": "markdown",
      "source": [
        "## Setup"
      ],
      "metadata": {
        "id": "fZr6SUf1wJBk"
      }
    },
    {
      "cell_type": "code",
      "source": [
        "import matplotlib.pyplot as plt\n",
        "import matplotlib.patches as patches\n",
        "\n",
        "print(\"✅ Packages imported\")"
      ],
      "metadata": {
        "colab": {
          "base_uri": "https://localhost:8080/"
        },
        "id": "aAYhrY03wnOW",
        "outputId": "a03385b1-87c7-4c1c-bad9-df041b3db83e"
      },
      "execution_count": null,
      "outputs": [
        {
          "output_type": "stream",
          "name": "stdout",
          "text": [
            "✅ Packages imported\n"
          ]
        }
      ]
    },
    {
      "cell_type": "markdown",
      "source": [
        "## 🏃‍♂️ An accelerator"
      ],
      "metadata": {
        "id": "owb2Ak5Vwb70"
      }
    },
    {
      "cell_type": "markdown",
      "source": [
        "### 🖍️ Color"
      ],
      "metadata": {
        "id": "O6mOEPTXfCna"
      }
    },
    {
      "cell_type": "code",
      "source": [
        "class Color:\n",
        "    # Define color constants\n",
        "    RED = '#FF0000'\n",
        "    GREEN = '#00FF00'\n",
        "    BLUE = '#0000FF'\n",
        "    YELLOW = '#FFFF00'\n",
        "    PURPLE = '#800080'\n",
        "    ORANGE = '#FFA500'\n",
        "    PINK = '#FFC0CB'\n",
        "    BROWN = '#A52A2A'\n",
        "    GRAY = '#808080'\n",
        "    BLACK = '#000000'\n",
        "    WHITE = '#FFFFFF'"
      ],
      "metadata": {
        "id": "utCiW7Uze-_M"
      },
      "execution_count": null,
      "outputs": []
    },
    {
      "cell_type": "markdown",
      "source": [
        "### 📈 how to draw a polygons with `pyplot` of `*matplotlib*`"
      ],
      "metadata": {
        "id": "Dpq3f6_gf1iu"
      }
    },
    {
      "cell_type": "code",
      "execution_count": null,
      "metadata": {
        "colab": {
          "base_uri": "https://localhost:8080/",
          "height": 532
        },
        "id": "YHsspqn0kpBf",
        "outputId": "ec57f694-444c-4294-bc92-09bf9ad471b5"
      },
      "outputs": [
        {
          "output_type": "display_data",
          "data": {
            "text/plain": [
              "<Figure size 640x480 with 1 Axes>"
            ],
            "image/png": "[encoded data removed]"
          },
          "metadata": {}
        }
      ],
      "source": [
        "# Create a figure and axis\n",
        "fig, ax = plt.subplots()\n",
        "\n",
        "# Function to draw a circle\n",
        "def draw_circle(radius, ax):\n",
        "  x1 = -100 # initial coordinates\n",
        "  y1 = -100\n",
        "  # The initial coordinates of a circle are in its center.\n",
        "  circle = patches.Circle((x1, y1), radius, fill=True, alpha=0.5, color=Color.PURPLE)\n",
        "  ax.add_patch(circle)\n",
        "\n",
        "# Function to draw a triangle\n",
        "def draw_triangle(side, ax):\n",
        "    x1 = 0 # initial coordinates\n",
        "    y1 = 100\n",
        "    x = [x1, side + x1, side / 2 + x1, x1]\n",
        "    y = [y1, y1, (3**0.5) * side / 2 +y1, y1]\n",
        "    triangle = patches.Polygon(list(zip(x, y)), fill=True, color=Color.PINK)\n",
        "    ax.add_patch(triangle)\n",
        "\n",
        "# Function to draw a square\n",
        "def draw_square(side, ax):\n",
        "    x1 = 200 # initial coordinates\n",
        "    y1 = 200\n",
        "    square = patches.Rectangle((x1, y1), side, side, fill=False)\n",
        "    ax.add_patch(square)\n",
        "\n",
        "def draw_rectangle( height, width, ax):\n",
        "  x1 = 110 # initial coordinates\n",
        "  y1 = -110\n",
        "  square = patches.Rectangle((x1, y1), height, width, fill=False)\n",
        "  ax.add_patch(square)\n",
        "\n",
        "def draw_polygon( vertices:list):\n",
        "  if len(vertices) < 3:\n",
        "    print(\"Sorry, I cannot draw this polygon with less than 3 vertices\")\n",
        "  # polygon do not have initial coordinates, the vertices (x,y) must be in the canvas limits.\n",
        "  x = [v[0] for v in vertices]\n",
        "  y = [v[1] for v in vertices]\n",
        "\n",
        "  # to close the polygon\n",
        "  if x[0] == x[-1] and y[0] == y[-1]:\n",
        "    x.append(x[0])\n",
        "    y.append(y[0])\n",
        "\n",
        "  square = patches.Polygon(list(zip(x, y)), fill=True, color=\"blue\", alpha=0.5)\n",
        "  ax.add_patch(square)\n",
        "\n",
        "# Set the aspect ratio to be equal\n",
        "ax.set_aspect('equal')\n",
        "\n",
        "# Draw a circle\n",
        "draw_circle(50, ax)\n",
        "\n",
        "# Draw a triangle\n",
        "draw_triangle(50, ax)\n",
        "\n",
        "# Draw a square\n",
        "draw_square(50, ax)\n",
        "\n",
        "# Draw a rectangle\n",
        "draw_rectangle(40,20, ax)\n",
        "\n",
        "draw_polygon(vertices = [\n",
        "    (-200, -250),  # Vertex 1\n",
        "    (-140, -250),  # Vertex 2\n",
        "    (-140, -200),  # Vertex 3\n",
        "    (-210, -200),\n",
        "    (-200, -250)\n",
        "\n",
        "])\n",
        "\n",
        "# Set axis limits\n",
        "ax.set_xlim(-305, 350)\n",
        "ax.set_ylim(-305, 350)\n",
        "\n",
        "# how to change the color of canvas box\n",
        "ax.spines['bottom']. set_color('green')\n",
        "ax.spines['top'].set_color(Color.RED)\n",
        "ax.spines['right'].set_color('#000')\n",
        "ax.spines['left'].set_color('#000')\n",
        "\n",
        "# how to change the text color of axes\n",
        "ax.tick_params(axis='x', colors='#000')\n",
        "ax.tick_params(axis='y', colors='red')\n",
        "\n",
        "# how to change the text color of axes\n",
        "plt.yticks(fontsize=5)\n",
        "plt.xticks(fontsize=5)\n",
        "\n",
        "# Show axes or not\n",
        "#plt.gca().set_axis_off()\n",
        "#plt.gca().xaxis.set_major_locator(plt.NullLocator())\n",
        "#plt.gca().yaxis.set_major_locator(plt.NullLocator())\n",
        "\n",
        "# show\n",
        "plt.subplots_adjust(top=1, bottom=0, right=1, left=0, hspace=0, wspace=0)\n",
        "plt.margins(0, 0)\n",
        "plt.show()\n"
      ]
    },
    {
      "cell_type": "markdown",
      "source": [
        "## 😎 Your solution"
      ],
      "metadata": {
        "id": "HbXHvfKqnRf8"
      }
    },
    {
      "cell_type": "markdown",
      "source": [
        "### 👋 Shape class"
      ],
      "metadata": {
        "id": "_hDsE-NgnVfJ"
      }
    },
    {
      "cell_type": "markdown",
      "source": [
        "Shapes are abstractions of Circles, Squares, Triangles, Rectangles, and Polygons. They (each type of shape) must have the following features:\n",
        "\n",
        "- `initial_coordinates` (`x`,`y`) in the canvas.\n",
        "- `color` (one color of a list of `Colors`).\n",
        "- `fill` (`True` or `False`).\n",
        "- **shape_attributes** represent the characteristics of a shape, and each type of shape has its unique way of being described. So, they will vary according to the shape type. For example, the term `side` specifically refers to a square because `squares` have all their sides equal in length. In contrast, the `radius` represents a `circle`.\n",
        "- method to `draw` the shape.\n",
        "- method to expose the **shape_attributes**, to describe the shape in strings to explain its state.\n",
        "- `alpha`: (num from 0 to 1).\n",
        "- the `constructor` must receive all the attributes while creating a shape.\n",
        "    - Remember, you can use `overload` to call the constructor in different ways.\n",
        "    - The default behavior of a shape is:\n",
        "        - not to `fill` the shape;\n",
        "        - the default `color` is `green` and\n",
        "        - the alpha is 0.5.\n",
        "\n",
        "<aside>\n",
        "🚧 You need to decide where will be the attributes and how to define the signature of methods and construction in the shapes hierarchy.\n",
        "\n",
        "</aside>"
      ],
      "metadata": {
        "id": "U4bZgB6yuDvK"
      }
    },
    {
      "cell_type": "markdown",
      "source": [
        "### 👨🏻‍💻 Code:"
      ],
      "metadata": {
        "id": "llbMKsQNuG7p"
      }
    },
    {
      "cell_type": "code",
      "source": [
        "class Shape:\n",
        "  ..."
      ],
      "metadata": {
        "id": "M08wAdXUnZEu"
      },
      "execution_count": null,
      "outputs": []
    },
    {
      "cell_type": "markdown",
      "source": [
        "### 👋 Circle Class"
      ],
      "metadata": {
        "id": "NlIRE6VYnZus"
      }
    },
    {
      "cell_type": "markdown",
      "source": [
        "- Purpose: Represents a circle shape\n",
        "- Tip: shape_attributes ****`radius`"
      ],
      "metadata": {
        "id": "xNjDGFHet8vO"
      }
    },
    {
      "cell_type": "markdown",
      "source": [
        "### 👨🏻‍💻 Code:"
      ],
      "metadata": {
        "id": "UDzPCpmauJTo"
      }
    },
    {
      "cell_type": "code",
      "source": [
        "class Circle:\n",
        "  ..."
      ],
      "metadata": {
        "id": "XRXx6TyTncRr"
      },
      "execution_count": null,
      "outputs": []
    },
    {
      "cell_type": "markdown",
      "source": [
        "### 👋 Square class"
      ],
      "metadata": {
        "id": "jNdM4nlUnh5X"
      }
    },
    {
      "cell_type": "markdown",
      "source": [
        "\n",
        "- Purpose: Represents a square shape.\n",
        "- Tip: shape_attributes ****`side`"
      ],
      "metadata": {
        "id": "EzJAzmUjt0-4"
      }
    },
    {
      "cell_type": "markdown",
      "source": [
        "### 👨🏻‍💻 Code"
      ],
      "metadata": {
        "id": "6lLc87ayt112"
      }
    },
    {
      "cell_type": "code",
      "source": [
        "class Square:\n",
        "  ..."
      ],
      "metadata": {
        "id": "4zUf_vwBnmJe"
      },
      "execution_count": null,
      "outputs": []
    },
    {
      "cell_type": "markdown",
      "source": [
        "### 👋 Rectangle class"
      ],
      "metadata": {
        "id": "ewkcmwAXqBgg"
      }
    },
    {
      "cell_type": "markdown",
      "source": [
        "\n",
        "- Purpose: Represents a rectangle shape.\n",
        "- Tip: shape_attributes ****`height` and `width` to store the dimensions of the rectangle."
      ],
      "metadata": {
        "id": "pm7WAFDCqB4K"
      }
    },
    {
      "cell_type": "markdown",
      "source": [
        "### 👨🏻‍💻 Code:"
      ],
      "metadata": {
        "id": "NkY0rwSDuLyM"
      }
    },
    {
      "cell_type": "code",
      "source": [
        "class Rectangle:\n",
        "  ..."
      ],
      "metadata": {
        "id": "w9FjcHPWntGS"
      },
      "execution_count": null,
      "outputs": []
    },
    {
      "cell_type": "markdown",
      "source": [
        "### 👋 Equilateral Triangle Class (Subclass of Shape):\n",
        "\n"
      ],
      "metadata": {
        "id": "Kztcgd09paIl"
      }
    },
    {
      "cell_type": "markdown",
      "source": [
        "- Purpose: Represents an equilateral triangle shape.\n",
        "- Tip: shape_attributes ****`side`\n",
        "\n",
        "<img src=\"https://media.geeksforgeeks.org/wp-content/uploads/20230303184252/Equilateral-Triangle-3.png\" width=\"400px\"/>"
      ],
      "metadata": {
        "id": "VtzsiIFFpovK"
      }
    },
    {
      "cell_type": "markdown",
      "source": [
        "### 👨🏻‍💻 Code"
      ],
      "metadata": {
        "id": "zKveHOgzpj_j"
      }
    },
    {
      "cell_type": "code",
      "source": [
        "class EquilateralTriangle:\n",
        "  ..."
      ],
      "metadata": {
        "id": "gGjN9GeJnw4C"
      },
      "execution_count": null,
      "outputs": []
    },
    {
      "cell_type": "markdown",
      "source": [
        "### 👋 FreePolygon Class:\n",
        "\n"
      ],
      "metadata": {
        "id": "x0r7BD1ooDBX"
      }
    },
    {
      "cell_type": "markdown",
      "source": [
        "- Purpose: Represents any polygon; it is drawn by coordinates (3 or more x,y pairs of coordinates).\n",
        "- Decide if you will inherit from Shape or not. Please explain why.\n",
        "    - All the rules that apply to regular shapes also apply to FreePolygon, except for the initial coordinates and the shape_attributes, which represent coordinates within the canvas.\n",
        "- Tip: shape_attributes ****`list of coordinates(x,y)` ****\n",
        "\n",
        "<div style=\"background-color:white;\">\n",
        "<img src=\"https://static.javatpoint.com/definition/images/polygon.png\" width=\"400px\" ></img>\n",
        "</div>"
      ],
      "metadata": {
        "id": "rJR-_ScYp6jI"
      }
    },
    {
      "cell_type": "markdown",
      "source": [
        "### 👨🏻‍💻 Code:"
      ],
      "metadata": {
        "id": "cG0Fn8z2p8D-"
      }
    },
    {
      "cell_type": "code",
      "source": [
        "class FreePolygon:\n",
        "  ..."
      ],
      "metadata": {
        "id": "WX2P_p-mn1gi"
      },
      "execution_count": null,
      "outputs": []
    },
    {
      "cell_type": "markdown",
      "source": [
        "> 🤔 Write your decision:\n",
        ">\n",
        "> - Decide if you will inherit from Shape or not. Please  explain why.\n",
        ">    - All the rules that apply to regular shapes also apply to FreePolygon, except for the initial coordinates and the shape_attributes, which represent coordinates within the canvas.\n",
        "\n",
        "```\n",
        "My decisi on is...\n",
        "```"
      ],
      "metadata": {
        "id": "2teESS27sGcs"
      }
    },
    {
      "cell_type": "markdown",
      "source": [
        "### 👋 Canvas Class"
      ],
      "metadata": {
        "id": "Hdj318UTpUqM"
      }
    },
    {
      "cell_type": "markdown",
      "source": [
        "### 👨🏻‍💻 Code:"
      ],
      "metadata": {
        "id": "t8QS3UE3uiQE"
      }
    },
    {
      "cell_type": "code",
      "source": [
        "class Canvas:\n",
        "  ..."
      ],
      "metadata": {
        "id": "E4wy5E8Sn7jC"
      },
      "execution_count": null,
      "outputs": []
    },
    {
      "cell_type": "markdown",
      "source": [
        "## 👋 Instances and Draw the shapes"
      ],
      "metadata": {
        "id": "sRlmyaV0ns3D"
      }
    },
    {
      "cell_type": "markdown",
      "source": [
        "You'll make objects from these classes, define their characteristics, and use the \"draw\" method to display the shapes on the canvas. Make sure to draw at least one shape of each type, varying their sizes and colors."
      ],
      "metadata": {
        "id": "B7tpc8sTrLUN"
      }
    },
    {
      "cell_type": "markdown",
      "source": [
        "### Instances"
      ],
      "metadata": {
        "id": "vPrZxsFPrOGO"
      }
    },
    {
      "cell_type": "markdown",
      "source": [
        "💡 Example:\n",
        "```python\n",
        "circle_1 = Circle(...)\n",
        "```"
      ],
      "metadata": {
        "id": "mlrDGT9CrYfL"
      }
    },
    {
      "cell_type": "markdown",
      "source": [
        "### 👨🏻‍💻 Code"
      ],
      "metadata": {
        "id": "Z0t7vlF6unag"
      }
    },
    {
      "cell_type": "code",
      "source": [
        "# circle_1 = Circle(...)"
      ],
      "metadata": {
        "id": "w0NRh2PIrDVS"
      },
      "execution_count": null,
      "outputs": []
    },
    {
      "cell_type": "markdown",
      "source": [
        "### 👋  Create canvas and draw the shapes"
      ],
      "metadata": {
        "id": "dfP49cwfrRFG"
      }
    },
    {
      "cell_type": "markdown",
      "source": [
        "💡 Example:\n",
        "\n",
        "```python\n",
        "canvas = Canvas(...)\n",
        "canvas.draw(shapes = [circle_1,...] )\n",
        "```"
      ],
      "metadata": {
        "id": "a7e84atZrzwF"
      }
    },
    {
      "cell_type": "markdown",
      "source": [
        "### 👨🏻‍💻 Code"
      ],
      "metadata": {
        "id": "DBDj5tW2urA0"
      }
    },
    {
      "cell_type": "code",
      "source": [
        "# canvas = Canvas(...)\n",
        "# canvas.draw(shapes = [circle_1,...] )"
      ],
      "metadata": {
        "id": "nOf1t3hPrNNK"
      },
      "execution_count": null,
      "outputs": []
    }
  ]
}