{
  "nbformat": 4,
  "nbformat_minor": 0,
  "metadata": {
    "colab": {
      "provenance": [],
      "collapsed_sections": [
        "x0r7BD1ooDBX",
        "cG0Fn8z2p8D-"
      ]
    },
    "kernelspec": {
      "name": "python3",
      "display_name": "Python 3"
    },
    "language_info": {
      "name": "python"
    }
  },
  "cells": [
    {
      "cell_type": "markdown",
      "source": [
        "# Exercise 1: Creating a Canvas for Drawing Shapes\n",
        "\n",
        "> 💬 Let’s write code to practice OOP - Object-Oriented Programming in Python\n"
      ],
      "metadata": {
        "id": "aeoQMdnKkre1"
      }
    },
    {
      "cell_type": "markdown",
      "source": [
        "## Setup"
      ],
      "metadata": {
        "id": "fZr6SUf1wJBk"
      }
    },
    {
      "cell_type": "code",
      "source": [
        "import matplotlib.pyplot as plt\n",
        "import matplotlib.patches as patches\n",
        "\n",
        "print(\"✅ Packages imported\")"
      ],
      "metadata": {
        "colab": {
          "base_uri": "https://localhost:8080/"
        },
        "id": "aAYhrY03wnOW",
        "outputId": "953faa13-7107-44a5-9bcb-b343e8bcd769"
      },
      "execution_count": null,
      "outputs": [
        {
          "output_type": "stream",
          "name": "stdout",
          "text": [
            "✅ Packages imported\n"
          ]
        }
      ]
    },
    {
      "cell_type": "markdown",
      "source": [
        "## 🏃‍♂️ An accelerator"
      ],
      "metadata": {
        "id": "owb2Ak5Vwb70"
      }
    },
    {
      "cell_type": "markdown",
      "source": [
        "### 🖍️ Color"
      ],
      "metadata": {
        "id": "O6mOEPTXfCna"
      }
    },
    {
      "cell_type": "code",
      "source": [
        "class Color:\n",
        "    # Define color constants\n",
        "    RED = '#FF0000'\n",
        "    GREEN = '#00FF00'\n",
        "    BLUE = '#0000FF'\n",
        "    YELLOW = '#FFFF00'\n",
        "    PURPLE = '#800080'\n",
        "    ORANGE = '#FFA500'\n",
        "    PINK = '#FFC0CB'\n",
        "    BROWN = '#A52A2A'\n",
        "    GRAY = '#808080'\n",
        "    BLACK = '#000000'\n",
        "    WHITE = '#FFFFFF'\n",
        "\n",
        "class TerminalTextColor:\n",
        "    RESET = \"\\033[0m\"  # Reset to default color\n",
        "    RED = \"\\033[91m\"    # Red color\n",
        "    GREEN = \"\\033[92m\"  # Green color\n",
        "    YELLOW = \"\\033[93m\" # Yellow color\n",
        "    BLUE = \"\\033[94m\"   # Blue color"
      ],
      "metadata": {
        "id": "utCiW7Uze-_M"
      },
      "execution_count": null,
      "outputs": []
    },
    {
      "cell_type": "markdown",
      "source": [
        "### 📈 how to draw a polygons with `pyplot` of `*matplotlib*`"
      ],
      "metadata": {
        "id": "Dpq3f6_gf1iu"
      }
    },
    {
      "cell_type": "code",
      "execution_count": null,
      "metadata": {
        "colab": {
          "base_uri": "https://localhost:8080/",
          "height": 532
        },
        "id": "YHsspqn0kpBf",
        "outputId": "13265131-8692-4213-defe-c0f15a0aef59"
      },
      "outputs": [
        {
          "output_type": "display_data",
          "data": {
            "text/plain": [
              "<Figure size 640x480 with 1 Axes>"
            ],
            "image/png": "[encoded data removed]"
          },
          "metadata": {}
        }
      ],
      "source": [
        "# Create a figure and axis\n",
        "fig, ax = plt.subplots()\n",
        "\n",
        "# Function to draw a circle\n",
        "def draw_circle(radius, ax):\n",
        "  x1 = -100 # initial coordinates\n",
        "  y1 = -100\n",
        "  # The initial coordinates of a circle are in its center.\n",
        "  circle = patches.Circle((x1, y1), radius, fill=True, alpha=0.5, color=Color.PURPLE)\n",
        "  ax.add_patch(circle)\n",
        "\n",
        "# Function to draw a triangle\n",
        "def draw_triangle(side, ax):\n",
        "    x1 = 0 # initial coordinates\n",
        "    y1 = 100\n",
        "    x = [x1, side + x1, side / 2 + x1, x1]\n",
        "    y = [y1, y1, (3**0.5) * side / 2 +y1, y1]\n",
        "    triangle = patches.Polygon(list(zip(x, y)), fill=True, color=Color.PINK)\n",
        "    ax.add_patch(triangle)\n",
        "\n",
        "# Function to draw a square\n",
        "def draw_square(side, ax):\n",
        "    x1 = 200 # initial coordinates\n",
        "    y1 = 200\n",
        "    square = patches.Rectangle((x1, y1), side, side, fill=False)\n",
        "    ax.add_patch(square)\n",
        "\n",
        "def draw_rectangle( height, width, ax):\n",
        "  x1 = 110 # initial coordinates\n",
        "  y1 = -110\n",
        "  square = patches.Rectangle((x1, y1), height, width, fill=False)\n",
        "  ax.add_patch(square)\n",
        "\n",
        "def draw_polygon( vertices:list):\n",
        "  if len(vertices) < 3:\n",
        "    print(\"Sorry, I cannot draw this polygon with less than 3 vertices\")\n",
        "  # polygon do not have initial coordinates, the vertices (x,y) must be in the canvas limits.\n",
        "  x = [v[0] for v in vertices]\n",
        "  y = [v[1] for v in vertices]\n",
        "\n",
        "  # to close the polygon\n",
        "  if x[0] == x[-1] and y[0] == y[-1]:\n",
        "    x.append(x[0])\n",
        "    y.append(y[0])\n",
        "\n",
        "  square = patches.Polygon(list(zip(x, y)), fill=True, color=\"blue\", alpha=0.5)\n",
        "  ax.add_patch(square)\n",
        "\n",
        "# Set the aspect ratio to be equal\n",
        "ax.set_aspect('equal')\n",
        "\n",
        "# Draw a circle\n",
        "draw_circle(50, ax)\n",
        "\n",
        "# Draw a triangle\n",
        "draw_triangle(50, ax)\n",
        "\n",
        "# Draw a square\n",
        "draw_square(50, ax)\n",
        "\n",
        "# Draw a rectangle\n",
        "draw_rectangle(40,20, ax)\n",
        "\n",
        "draw_polygon(vertices = [\n",
        "    (-200, -250),  # Vertex 1\n",
        "    (-140, -250),  # Vertex 2\n",
        "    (-140, -200),  # Vertex 3\n",
        "    (-210, -200),\n",
        "    (-200, -250)\n",
        "\n",
        "])\n",
        "\n",
        "# Set axis limits\n",
        "ax.set_xlim(-305, 350)\n",
        "ax.set_ylim(-305, 350)\n",
        "\n",
        "# how to change the color of canvas box\n",
        "ax.spines['bottom'].set_color('green')\n",
        "ax.spines['top'].set_color(Color.RED)\n",
        "ax.spines['right'].set_color('#000')\n",
        "ax.spines['left'].set_color('#000')\n",
        "\n",
        "# how to change the text color of axes\n",
        "ax.tick_params(axis='x', colors='#000')\n",
        "ax.tick_params(axis='y', colors='red')\n",
        "\n",
        "# how to change the text color of axes\n",
        "plt.yticks(fontsize=5)\n",
        "plt.xticks(fontsize=5)\n",
        "\n",
        "# Show axes or not\n",
        "#plt.gca().set_axis_off()\n",
        "#plt.gca().xaxis.set_major_locator(plt.NullLocator())\n",
        "#plt.gca().yaxis.set_major_locator(plt.NullLocator())\n",
        "\n",
        "# show\n",
        "plt.subplots_adjust(top=1, bottom=0, right=1, left=0, hspace=0, wspace=0)\n",
        "plt.margins(0, 0)\n",
        "plt.show()\n",
        "\n"
      ]
    },
    {
      "cell_type": "markdown",
      "source": [
        "## 😎 Your solution"
      ],
      "metadata": {
        "id": "HbXHvfKqnRf8"
      }
    },
    {
      "cell_type": "markdown",
      "source": [
        "### 👋 Shape class"
      ],
      "metadata": {
        "id": "_hDsE-NgnVfJ"
      }
    },
    {
      "cell_type": "markdown",
      "source": [
        "Shapes are abstractions of Circles, Squares, Triangles, Rectangles, and Polygons. They (each type of shape) must have the following features:\n",
        "\n",
        "- `initial_coordinates` (`x`,`y`) in the canvas.\n",
        "- `color` (one color of a list of `Colors`).\n",
        "- `fill` (`True` or `False`).\n",
        "- **shape_attributes** represent the characteristics of a shape, and each type of shape has its unique way of being described. So, they will vary according to the shape type. For example, the term `side` specifically refers to a square because `squares` have all their sides equal in length. In contrast, the `radius` represents a `circle`.\n",
        "- method to `draw` the shape.\n",
        "- method to expose the **shape_attributes**, to describe the shape in strings to explain its state.\n",
        "- `alpha`: (num from 0 to 1).\n",
        "- the `constructor` must receive all the attributes while creating a shape.\n",
        "    - Remember, you can use `overload` to call the constructor in different ways.\n",
        "    - The default behavior of a shape is:\n",
        "        - not to `fill` the shape;\n",
        "        - the default `color` is `green` and\n",
        "        - the alpha is 0.5.\n",
        "\n",
        "<aside>\n",
        "🚧 You need to decide where will be the attributes and how to define the signature of methods and construction in the shapes hierarchy.\n",
        "\n",
        "</aside>"
      ],
      "metadata": {
        "id": "U4bZgB6yuDvK"
      }
    },
    {
      "cell_type": "markdown",
      "source": [
        "### 👨🏻‍💻 Code:"
      ],
      "metadata": {
        "id": "llbMKsQNuG7p"
      }
    },
    {
      "cell_type": "code",
      "source": [
        "class Shape:\n",
        "  color: Color = Color.BLACK\n",
        "  #x1: int = 0\n",
        "  #y1: int = 0\n",
        "  fill: bool = False\n",
        "  alpha: float = 1\n",
        "\n",
        "  def __init__(self,\n",
        "      #x1: int = 0, y1: int = 0,\n",
        "      xy: tuple = (0,0),\n",
        "      color: Color = Color.BLACK,\n",
        "      fill: bool = False, alpha: float=1\n",
        "  ):\n",
        "    \"\"\"\n",
        "    Shape class constructor\n",
        "    \"\"\"\n",
        "    self.color = color\n",
        "    self.xy = xy\n",
        "    #self.x1 = x1\n",
        "    #self.y1 = y1\n",
        "    self.fill = fill\n",
        "    self.alpha = alpha\n",
        "\n",
        "  def draw(self):\n",
        "    \"\"\"\n",
        "    Abstrac method, must be implemented by subclasses.\n",
        "\n",
        "    \"\"\"\n",
        "    return \"⚠️ I am an abstract method, I do not represent any shape\"\n",
        "\n",
        "  def __str__(self):\n",
        "    shift = \"   \"\n",
        "    #return 'from new __str__: ' + object.__str__(self)\n",
        "    class_name = str(type(self)).split('.')[-1].replace(\"'>\",\"\")\n",
        "\n",
        "    return f\"\\n💬 Class: {class_name}. \\n{shift}Attributes: {self.__dict__}\"\n",
        "    # + str(self.__dict__)\n",
        "\n",
        "  def print__str__fancy(self):\n",
        "    \"\"\"\n",
        "    print the class description in a \"fancy\" way 😎\n",
        "    \"\"\"\n",
        "    shift = \"   \"\n",
        "    attributes = \"\"\n",
        "    n_repeat = 80\n",
        "\n",
        "    class_name = str(type(self)).split('.')[-1].replace(\"'>\",\"\")\n",
        "\n",
        "    print(f\"👋 Class: {TerminalTextColor.GREEN}{class_name}{TerminalTextColor.RESET}\\n{'-' * n_repeat}\")\n",
        "\n",
        "    for k in self.__dict__:\n",
        "      attributes += f\"\\n{shift}{shift}- {k}: {TerminalTextColor.BLUE}{self.__dict__[k]}{TerminalTextColor.RESET}\"\n",
        "\n",
        "    print(f\"\\n{shift}🏷️ Attributes: \")\n",
        "    print(attributes)\n",
        "\n",
        "    print(f\"\\n{shift}⚡️ Draw method return \")\n",
        "    print(f'\\n{shift}{shift}-{str(self.draw())}')\n",
        "\n",
        "    title ='- the end -'\n",
        "    print(f'\\n{title}{\"-\" * (n_repeat-len(title))}')\n",
        "\n",
        "\n",
        "# ------------------------------------------------------------------------------\n",
        "# code to test the class:\n",
        "s = Shape()\n",
        "print(s.draw())\n",
        "print(s.__str__())"
      ],
      "metadata": {
        "id": "M08wAdXUnZEu",
        "colab": {
          "base_uri": "https://localhost:8080/"
        },
        "outputId": "45885254-0191-4025-c681-c3edbf63d926"
      },
      "execution_count": null,
      "outputs": [
        {
          "output_type": "stream",
          "name": "stdout",
          "text": [
            "⚠️ I am an abstract method, I do not represent any shape\n",
            "\n",
            "💬 Class: Shape. \n",
            "   Attributes: {'color': '#000000', 'xy': (0, 0), 'fill': False, 'alpha': 1}\n"
          ]
        }
      ]
    },
    {
      "cell_type": "code",
      "source": [
        "s.print__str__fancy()"
      ],
      "metadata": {
        "colab": {
          "base_uri": "https://localhost:8080/"
        },
        "id": "3DN4QCHCtAps",
        "outputId": "7e5ef136-866b-472b-c939-327f54e7a833"
      },
      "execution_count": null,
      "outputs": [
        {
          "output_type": "stream",
          "name": "stdout",
          "text": [
            "👋 Class: \u001b[92mShape\u001b[0m\n",
            "--------------------------------------------------------------------------------\n",
            "\n",
            "   🏷️ Attributes: \n",
            "\n",
            "      - color: \u001b[94m#000000\u001b[0m\n",
            "      - xy: \u001b[94m(0, 0)\u001b[0m\n",
            "      - fill: \u001b[94mFalse\u001b[0m\n",
            "      - alpha: \u001b[94m1\u001b[0m\n",
            "\n",
            "   ⚡️ Draw method return \n",
            "\n",
            "      -⚠️ I am an abstract method, I do not represent any shape\n",
            "\n",
            "- the end ----------------------------------------------------------------------\n"
          ]
        }
      ]
    },
    {
      "cell_type": "markdown",
      "source": [
        "### 👋 Circle Class"
      ],
      "metadata": {
        "id": "NlIRE6VYnZus"
      }
    },
    {
      "cell_type": "markdown",
      "source": [
        "- Purpose: Represents a circle shape\n",
        "- Tip: shape_attributes ****`radius`"
      ],
      "metadata": {
        "id": "xNjDGFHet8vO"
      }
    },
    {
      "cell_type": "markdown",
      "source": [
        "### 👨🏻‍💻 Code:"
      ],
      "metadata": {
        "id": "UDzPCpmauJTo"
      }
    },
    {
      "cell_type": "code",
      "source": [
        "class Circle(Shape):\n",
        "  radius: int\n",
        "  def __init__(self,\n",
        "    radius: int,\n",
        "    xy: tuple,\n",
        "    #x1: int = 0, y1: int = 0,\n",
        "    color: Color = Color.BLACK,\n",
        "    fill: bool = False, alpha: float=1\n",
        "  ):\n",
        "    super().__init__( color=color, xy=xy, fill=fill, alpha=alpha)\n",
        "    self.radius = radius\n",
        "\n",
        "  def draw(self):\n",
        "    \"\"\"\n",
        "    Methdod that returns a representation of the shape by using `matplotlib.patches`.\n",
        "    This object creates shapes representation that can be ploted by a canvas (`matplotlib.pyplot`).\n",
        "\n",
        "    * Remark: You need a canvas (`matplotlib.pyplot`) that plots the shape representation.\n",
        "    \"\"\"\n",
        "    return patches.Circle(\n",
        "      xy = self.xy,\n",
        "      radius = self.radius,\n",
        "      fill=self.fill,\n",
        "      alpha=self.alpha,\n",
        "      color=self.color\n",
        "    )\n",
        "\n",
        "  #def __str__(self):\n",
        "  #  return f\"Class: {str(type(self)).split('.')[-1]}\" + str(self.__dict__)\n",
        "\n",
        "\n",
        "# ------------------------------------------------------------------------------\n",
        "# code to test the class:\n",
        "c1 = Circle(xy=(50,50), radius=10)\n",
        "c1.print__str__fancy()"
      ],
      "metadata": {
        "id": "XRXx6TyTncRr",
        "colab": {
          "base_uri": "https://localhost:8080/"
        },
        "outputId": "b2e56a4a-055e-4315-80eb-1738d3f3a936"
      },
      "execution_count": null,
      "outputs": [
        {
          "output_type": "stream",
          "name": "stdout",
          "text": [
            "👋 Class: \u001b[92mCircle\u001b[0m\n",
            "--------------------------------------------------------------------------------\n",
            "\n",
            "   🏷️ Attributes: \n",
            "\n",
            "      - color: \u001b[94m#000000\u001b[0m\n",
            "      - xy: \u001b[94m(50, 50)\u001b[0m\n",
            "      - fill: \u001b[94mFalse\u001b[0m\n",
            "      - alpha: \u001b[94m1\u001b[0m\n",
            "      - radius: \u001b[94m10\u001b[0m\n",
            "\n",
            "   ⚡️ Draw method return \n",
            "\n",
            "      -Circle(xy=(50, 50), radius=10)\n",
            "\n",
            "- the end ----------------------------------------------------------------------\n"
          ]
        }
      ]
    },
    {
      "cell_type": "markdown",
      "source": [
        "### 👋 Square class"
      ],
      "metadata": {
        "id": "jNdM4nlUnh5X"
      }
    },
    {
      "cell_type": "markdown",
      "source": [
        "\n",
        "- Purpose: Represents a square shape.\n",
        "- Tip: shape_attributes ****`side`"
      ],
      "metadata": {
        "id": "EzJAzmUjt0-4"
      }
    },
    {
      "cell_type": "markdown",
      "source": [
        "### 👨🏻‍💻 Code"
      ],
      "metadata": {
        "id": "6lLc87ayt112"
      }
    },
    {
      "cell_type": "code",
      "source": [
        "class Square(Shape):\n",
        "  side: int\n",
        "  def __init__(self, side: int, xy: tuple, color: Color = Color.BLUE, fill: bool = False, alpha: float=1):\n",
        "    super().__init__(color=color, xy=xy, fill=fill, alpha=alpha)\n",
        "    self.side = side\n",
        "\n",
        "  def draw(self):\n",
        "    \"\"\"\n",
        "    Methdod that returns a representation of the shape by using `matplotlib.patches`.\n",
        "    This object creates shapes representation that can be ploted by a canvas (`matplotlib.pyplot`).\n",
        "\n",
        "    * Remark: You need a canvas (`matplotlib.pyplot`) that plots the shape representation.\n",
        "    \"\"\"\n",
        "    return patches.Rectangle(\n",
        "      xy = self.xy,\n",
        "      width = self.side,\n",
        "      height = self.side,\n",
        "      fill=self.fill,\n",
        "      alpha= self.alpha,\n",
        "      color=self.color\n",
        "    )\n",
        "\n",
        "# ------------------------------------------------------------------------------\n",
        "s1 = Square(xy=(10,10), side=10)\n",
        "s1.print__str__fancy()"
      ],
      "metadata": {
        "id": "4zUf_vwBnmJe",
        "colab": {
          "base_uri": "https://localhost:8080/"
        },
        "outputId": "8f585e9f-5c19-4ff9-8f2e-a6f92741220a"
      },
      "execution_count": null,
      "outputs": [
        {
          "output_type": "stream",
          "name": "stdout",
          "text": [
            "👋 Class: \u001b[92mSquare\u001b[0m\n",
            "--------------------------------------------------------------------------------\n",
            "\n",
            "   🏷️ Attributes: \n",
            "\n",
            "      - color: \u001b[94m#0000FF\u001b[0m\n",
            "      - xy: \u001b[94m(10, 10)\u001b[0m\n",
            "      - fill: \u001b[94mFalse\u001b[0m\n",
            "      - alpha: \u001b[94m1\u001b[0m\n",
            "      - side: \u001b[94m10\u001b[0m\n",
            "\n",
            "   ⚡️ Draw method return \n",
            "\n",
            "      -Rectangle(xy=(10, 10), width=10, height=10, angle=0)\n",
            "\n",
            "- the end ----------------------------------------------------------------------\n"
          ]
        }
      ]
    },
    {
      "cell_type": "markdown",
      "source": [
        "### 👋 Rectangle class"
      ],
      "metadata": {
        "id": "ewkcmwAXqBgg"
      }
    },
    {
      "cell_type": "markdown",
      "source": [
        "\n",
        "- Purpose: Represents a rectangle shape.\n",
        "- Tip: shape_attributes ****`height` and `width` to store the dimensions of the rectangle."
      ],
      "metadata": {
        "id": "pm7WAFDCqB4K"
      }
    },
    {
      "cell_type": "markdown",
      "source": [
        "### 👨🏻‍💻 Code:"
      ],
      "metadata": {
        "id": "NkY0rwSDuLyM"
      }
    },
    {
      "cell_type": "code",
      "source": [
        "class Rectangle(Shape):\n",
        "  width: int\n",
        "  height: int\n",
        "  def __init__(self,\n",
        "    width: int, height: int, xy:tuple,\n",
        "    color: Color = Color.BLACK, fill: bool = False, alpha: float=1\n",
        "  ):\n",
        "    super().__init__(color=color, xy=xy, fill=fill, alpha=alpha)\n",
        "    self.width = width\n",
        "    self.height = height\n",
        "\n",
        "  def draw(self):\n",
        "    \"\"\"\n",
        "    Methdod that returns a representation of the shape by using `matplotlib.patches`.\n",
        "    This object creates shapes representation that can be ploted by a canvas (`matplotlib.pyplot`).\n",
        "\n",
        "    * Remark: You need a canvas (`matplotlib.pyplot`) that plots the shape representation.\n",
        "    \"\"\"\n",
        "    return patches.Rectangle(\n",
        "      xy = self.xy,\n",
        "      width = self.width,\n",
        "      height = self.height,\n",
        "      fill = self.fill,\n",
        "      alpha = self.alpha,\n",
        "      color=self.color\n",
        "    )\n",
        "\n",
        "# ------------------------------------------------------------------------------\n",
        "s1 = Rectangle(xy = (120,20), width =10, height=10)\n",
        "s1.print__str__fancy()"
      ],
      "metadata": {
        "id": "w9FjcHPWntGS",
        "colab": {
          "base_uri": "https://localhost:8080/"
        },
        "outputId": "8f5b1ca1-2e92-4156-8c32-822558423f78"
      },
      "execution_count": null,
      "outputs": [
        {
          "output_type": "stream",
          "name": "stdout",
          "text": [
            "👋 Class: \u001b[92mRectangle\u001b[0m\n",
            "--------------------------------------------------------------------------------\n",
            "\n",
            "   🏷️ Attributes: \n",
            "\n",
            "      - color: \u001b[94m#000000\u001b[0m\n",
            "      - xy: \u001b[94m(120, 20)\u001b[0m\n",
            "      - fill: \u001b[94mFalse\u001b[0m\n",
            "      - alpha: \u001b[94m1\u001b[0m\n",
            "      - width: \u001b[94m10\u001b[0m\n",
            "      - height: \u001b[94m10\u001b[0m\n",
            "\n",
            "   ⚡️ Draw method return \n",
            "\n",
            "      -Rectangle(xy=(120, 20), width=10, height=10, angle=0)\n",
            "\n",
            "- the end ----------------------------------------------------------------------\n"
          ]
        }
      ]
    },
    {
      "cell_type": "markdown",
      "source": [
        "### 👋 Equilateral Triangle Class (Subclass of Shape):\n",
        "\n"
      ],
      "metadata": {
        "id": "Kztcgd09paIl"
      }
    },
    {
      "cell_type": "markdown",
      "source": [
        "- Purpose: Represents an equilateral triangle shape.\n",
        "- Tip: shape_attributes ****`side`\n",
        "\n",
        "<img src=\"https://media.geeksforgeeks.org/wp-content/uploads/20230303184252/Equilateral-Triangle-3.png\" width=\"400px\"/>"
      ],
      "metadata": {
        "id": "VtzsiIFFpovK"
      }
    },
    {
      "cell_type": "markdown",
      "source": [
        "### 👨🏻‍💻 Code"
      ],
      "metadata": {
        "id": "zKveHOgzpj_j"
      }
    },
    {
      "cell_type": "code",
      "source": [
        "class EquilateralTriangle(Shape):\n",
        "  side: int\n",
        "  def __init__(self,\n",
        "    side: int,\n",
        "    xy:tuple,\n",
        "    color: Color = Color.BLACK, fill: bool = False, alpha: float=1\n",
        "  ):\n",
        "    super().__init__(color=color, xy=xy, fill=fill, alpha=alpha)\n",
        "    self.side = side\n",
        "\n",
        "  def draw(self):\n",
        "    \"\"\"\n",
        "    Methdod that returns a representation of the shape by using `matplotlib.patches`.\n",
        "    This object creates shapes representation that can be ploted by a canvas (`matplotlib.pyplot`).\n",
        "\n",
        "    * Remark: You need a canvas (`matplotlib.pyplot`) that plots the shape representation.\n",
        "    \"\"\"\n",
        "    xs = [self.xy[0], self.side + self.xy[0], self.side / 2 + self.xy[0], self.xy[0]]\n",
        "    ys = [self.xy[1], self.xy[1], (3**0.5) * self.side / 2 + self.xy[1], self.xy[1]]\n",
        "\n",
        "    return patches.Polygon(\n",
        "      list(zip(xs, ys)),\n",
        "      fill=self.fill,\n",
        "      alpha=self.alpha,\n",
        "      color=self.color\n",
        "    )\n",
        "\n",
        "# ------------------------------------------------------------------------------\n",
        "# Code to test the class:\n",
        "t1 = EquilateralTriangle(xy = (30,30), side=10)\n",
        "t1.print__str__fancy()"
      ],
      "metadata": {
        "id": "gGjN9GeJnw4C",
        "colab": {
          "base_uri": "https://localhost:8080/"
        },
        "outputId": "3473893d-b32f-4325-fdab-d45e6b0cae6d"
      },
      "execution_count": null,
      "outputs": [
        {
          "output_type": "stream",
          "name": "stdout",
          "text": [
            "👋 Class: \u001b[92mEquilateralTriangle\u001b[0m\n",
            "--------------------------------------------------------------------------------\n",
            "\n",
            "   🏷️ Attributes: \n",
            "\n",
            "      - color: \u001b[94m#000000\u001b[0m\n",
            "      - xy: \u001b[94m(30, 30)\u001b[0m\n",
            "      - fill: \u001b[94mFalse\u001b[0m\n",
            "      - alpha: \u001b[94m1\u001b[0m\n",
            "      - side: \u001b[94m10\u001b[0m\n",
            "\n",
            "   ⚡️ Draw method return \n",
            "\n",
            "      -Polygon4((30, 30) ...)\n",
            "\n",
            "- the end ----------------------------------------------------------------------\n"
          ]
        }
      ]
    },
    {
      "cell_type": "markdown",
      "source": [
        "### 👋 FreePolygon Class:\n",
        "\n"
      ],
      "metadata": {
        "id": "x0r7BD1ooDBX"
      }
    },
    {
      "cell_type": "markdown",
      "source": [
        "- Purpose: Represents any polygon; it is drawn by coordinates (3 or more x,y pairs of coordinates).\n",
        "- Decide if you will inherit from Shape or not. Please explain why.\n",
        "    - All the rules that apply to regular shapes also apply to FreePolygon, except for the initial coordinates and the shape_attributes, which represent coordinates within the canvas.\n",
        "- Tip: shape_attributes ****`list of coordinates(x,y)` ****\n",
        "\n",
        "<div style=\"background-color:white;\">\n",
        "<img src=\"https://static.javatpoint.com/definition/images/polygon.png\" width=\"400px\" ></img>\n",
        "</div>"
      ],
      "metadata": {
        "id": "rJR-_ScYp6jI"
      }
    },
    {
      "cell_type": "markdown",
      "source": [
        "### 👨🏻‍💻 Code:"
      ],
      "metadata": {
        "id": "cG0Fn8z2p8D-"
      }
    },
    {
      "cell_type": "code",
      "source": [
        "class FreePolygon:\n",
        "  ..."
      ],
      "metadata": {
        "id": "WX2P_p-mn1gi"
      },
      "execution_count": null,
      "outputs": []
    },
    {
      "cell_type": "markdown",
      "source": [
        "> 🤔 Write your decision:\n",
        ">\n",
        "> - Decide if you will inherit from Shape or not. Please  explain why.\n",
        ">    - All the rules that apply to regular shapes also apply to FreePolygon, except for the initial coordinates and the shape_attributes, which represent coordinates within the canvas.\n",
        "\n",
        "```\n",
        "My decision is...\n",
        "```"
      ],
      "metadata": {
        "id": "2teESS27sGcs"
      }
    },
    {
      "cell_type": "markdown",
      "source": [
        "> <font color=\"LightGreen\">It will be discussed in the next class.</font>"
      ],
      "metadata": {
        "id": "t3sLb7b_NP_F"
      }
    },
    {
      "cell_type": "markdown",
      "source": [
        "### 👋 Canvas Class"
      ],
      "metadata": {
        "id": "Hdj318UTpUqM"
      }
    },
    {
      "cell_type": "markdown",
      "source": [
        "### 👨🏻‍💻 Code:"
      ],
      "metadata": {
        "id": "t8QS3UE3uiQE"
      }
    },
    {
      "cell_type": "code",
      "source": [
        "class Canvas:\n",
        "  # constructor\n",
        "  def __init__(self,\n",
        "    width_range: tuple = (-300, 300), height_range: tuple = (-200,200),\n",
        "    box_color : Color = Color.GRAY, axes_text_color: Color = Color.GRAY,\n",
        "    axes_text_size = 5,\n",
        "  ):\n",
        "    self.background_color = Color.WHITE\n",
        "\n",
        "    self.width_range = width_range\n",
        "    self.height_range = height_range\n",
        "\n",
        "    self.box_color = box_color\n",
        "    self.axes_text_size = axes_text_size\n",
        "    self.axes_text_color = axes_text_color\n",
        "\n",
        "    # self.__ax_refresh()\n",
        "\n",
        "  def __ax_refresh(self):\n",
        "    self.fig, self.ax = plt.subplots()\n",
        "\n",
        "    # Set axis limits\n",
        "    self.ax.set_xlim(self.width_range[0], self.width_range[1])\n",
        "    self.ax.set_ylim(self.height_range[0], self.height_range[1])\n",
        "\n",
        "    # Set the aspect ratio to be equal\n",
        "    self.ax.set_aspect('equal')\n",
        "\n",
        "    self.change_box_color(self.box_color)\n",
        "    self.change_axes_text_color(self.axes_text_color)\n",
        "\n",
        "\n",
        "  # method\n",
        "  def change_box_color(self, color: Color):\n",
        "    self.ax.spines['bottom'].set_color(color)\n",
        "    self.ax.spines['top'].set_color(color)\n",
        "    self.ax.spines['right'].set_color(color)\n",
        "    self.ax.spines['left'].set_color(color)\n",
        "\n",
        "  # method\n",
        "  def change_axes_text_color(self, color: Color):\n",
        "    self.ax.tick_params(axis='x', colors=color)\n",
        "    self.ax.tick_params(axis='y', colors=color)\n",
        "\n",
        "  # method\n",
        "  def render(self, shapes:list[Shape], show_box=True, show_coordinates=True):\n",
        "\n",
        "    # ax\n",
        "    self.__ax_refresh()\n",
        "\n",
        "    # Change the behavior of the canvas box and its coordinates\n",
        "    if not show_box:\n",
        "      self.change_box_color(self.background_color)\n",
        "    if not show_coordinates:\n",
        "      self.change_axes_text_color(self.background_color)\n",
        "\n",
        "    # Print Shapes\n",
        "    for shape in shapes:\n",
        "      self.ax.add_patch(shape.draw())\n",
        "\n",
        "    # PLT\n",
        "    plt.yticks(fontsize=self.axes_text_size)\n",
        "    plt.xticks(fontsize=self.axes_text_size)\n",
        "\n",
        "    # Show the plot\n",
        "    plt.subplots_adjust(top=1, bottom=0, right=1, left=0, hspace=0, wspace=0)\n",
        "    plt.margins(50, 50)\n",
        "    plt.show()\n"
      ],
      "metadata": {
        "id": "E4wy5E8Sn7jC"
      },
      "execution_count": null,
      "outputs": []
    },
    {
      "cell_type": "markdown",
      "source": [
        "## 👋 Instances and Draw the shapes"
      ],
      "metadata": {
        "id": "sRlmyaV0ns3D"
      }
    },
    {
      "cell_type": "markdown",
      "source": [
        "You'll make objects from these classes, define their characteristics, and use the \"draw\" method to display the shapes on the canvas. Make sure to draw at least one shape of each type, varying their sizes and colors."
      ],
      "metadata": {
        "id": "B7tpc8sTrLUN"
      }
    },
    {
      "cell_type": "markdown",
      "source": [
        "### Instances"
      ],
      "metadata": {
        "id": "vPrZxsFPrOGO"
      }
    },
    {
      "cell_type": "markdown",
      "source": [
        "💡 Example:\n",
        "```python\n",
        "circle_1 = Circle(...)\n",
        "```"
      ],
      "metadata": {
        "id": "mlrDGT9CrYfL"
      }
    },
    {
      "cell_type": "markdown",
      "source": [
        "### 👨🏻‍💻 Code"
      ],
      "metadata": {
        "id": "Z0t7vlF6unag"
      }
    },
    {
      "cell_type": "code",
      "source": [
        "# circle_1 = Circle(...)\n",
        "shapes = []\n",
        "\n",
        "c1 = Circle(xy = (50, 50), radius=10, color = Color.GREEN, alpha=0.5, fill=True)\n",
        "shapes.append(c1)\n",
        "print(c1.__str__())\n",
        "\n",
        "shapes.append( Circle(xy = (55, 55), radius=20, color = Color.GREEN, alpha=0.5, fill=False) )\n",
        "print(shapes[-1].__str__())\n",
        "\n",
        "shapes.append( Square(xy = (-40, 45), side=20, color = Color.BLUE, alpha=0.5, fill=True) )\n",
        "print(shapes[-1].__str__())\n",
        "\n",
        "shapes.append( Square(xy = (-45, 40), side=40, color = Color.BLUE, alpha=0.5, fill=False) )\n",
        "print(shapes[-1].__str__())\n",
        "\n",
        "shapes.append( EquilateralTriangle(xy = (0, 0), side=20, color = Color.PINK, alpha=0.5, fill=True) )\n",
        "print(shapes[-1].__str__())\n",
        "\n",
        "shapes.append( EquilateralTriangle(xy = (-10, -10), side=40, color = Color.PINK, alpha=0.5, fill=False) )\n",
        "print(shapes[-1].__str__())\n",
        "\n",
        "\n",
        "shapes.append( Rectangle(xy = (-40, -55), width=100, height=20, color = Color.RED, alpha=0.5, fill=False) )\n",
        "print(shapes[-1].__str__())\n",
        "\n",
        "shapes.append( Rectangle(xy = (-35, -50), width=90, height=10, color = Color.RED, alpha=0.5, fill=True) )\n",
        "print(shapes[-1].__str__())\n"
      ],
      "metadata": {
        "id": "w0NRh2PIrDVS",
        "colab": {
          "base_uri": "https://localhost:8080/"
        },
        "outputId": "2ee51e8e-2ac8-4cc4-a2c4-b5ad3a884de8"
      },
      "execution_count": null,
      "outputs": [
        {
          "output_type": "stream",
          "name": "stdout",
          "text": [
            "\n",
            "💬 Class: Circle. \n",
            "   Attributes: {'color': '#00FF00', 'xy': (50, 50), 'fill': True, 'alpha': 0.5, 'radius': 10}\n",
            "\n",
            "💬 Class: Circle. \n",
            "   Attributes: {'color': '#00FF00', 'xy': (55, 55), 'fill': False, 'alpha': 0.5, 'radius': 20}\n",
            "\n",
            "💬 Class: Square. \n",
            "   Attributes: {'color': '#0000FF', 'xy': (-40, 45), 'fill': True, 'alpha': 0.5, 'side': 20}\n",
            "\n",
            "💬 Class: Square. \n",
            "   Attributes: {'color': '#0000FF', 'xy': (-45, 40), 'fill': False, 'alpha': 0.5, 'side': 40}\n",
            "\n",
            "💬 Class: EquilateralTriangle. \n",
            "   Attributes: {'color': '#FFC0CB', 'xy': (0, 0), 'fill': True, 'alpha': 0.5, 'side': 20}\n",
            "\n",
            "💬 Class: EquilateralTriangle. \n",
            "   Attributes: {'color': '#FFC0CB', 'xy': (-10, -10), 'fill': False, 'alpha': 0.5, 'side': 40}\n",
            "\n",
            "💬 Class: Rectangle. \n",
            "   Attributes: {'color': '#FF0000', 'xy': (-40, -55), 'fill': False, 'alpha': 0.5, 'width': 100, 'height': 20}\n",
            "\n",
            "💬 Class: Rectangle. \n",
            "   Attributes: {'color': '#FF0000', 'xy': (-35, -50), 'fill': True, 'alpha': 0.5, 'width': 90, 'height': 10}\n"
          ]
        }
      ]
    },
    {
      "cell_type": "markdown",
      "source": [
        "### 👋  Create canvas and draw the shapes"
      ],
      "metadata": {
        "id": "dfP49cwfrRFG"
      }
    },
    {
      "cell_type": "markdown",
      "source": [
        "💡 Example:\n",
        "\n",
        "```python\n",
        "canvas = Canvas(...)\n",
        "canvas.draw(shapes = [circle_1,...] )\n",
        "```"
      ],
      "metadata": {
        "id": "a7e84atZrzwF"
      }
    },
    {
      "cell_type": "markdown",
      "source": [
        "### 👨🏻‍💻 Code"
      ],
      "metadata": {
        "id": "DBDj5tW2urA0"
      }
    },
    {
      "cell_type": "code",
      "source": [
        "canvas = Canvas()\n",
        "canvas.render(shapes=shapes)"
      ],
      "metadata": {
        "id": "nOf1t3hPrNNK",
        "colab": {
          "base_uri": "https://localhost:8080/",
          "height": 481
        },
        "outputId": "4e838377-9dec-4c92-c1fe-0ea374e7e20e"
      },
      "execution_count": null,
      "outputs": [
        {
          "output_type": "display_data",
          "data": {
            "text/plain": [
              "<Figure size 640x480 with 1 Axes>"
            ],
            "image/png": "[encoded data removed]"
          },
          "metadata": {}
        }
      ]
    },
    {
      "cell_type": "code",
      "source": [
        "canvas.render(shapes=shapes, show_box=False)"
      ],
      "metadata": {
        "colab": {
          "base_uri": "https://localhost:8080/",
          "height": 481
        },
        "id": "DNJcCfHlTfkl",
        "outputId": "3fa6fc3f-99a9-4ef9-fbd8-7b2967a8bb5d"
      },
      "execution_count": null,
      "outputs": [
        {
          "output_type": "display_data",
          "data": {
            "text/plain": [
              "<Figure size 640x480 with 1 Axes>"
            ],
            "image/png": "[encoded data removed]"
          },
          "metadata": {}
        }
      ]
    },
    {
      "cell_type": "code",
      "source": [
        "canvas.render(shapes=shapes, show_coordinates=False)"
      ],
      "metadata": {
        "colab": {
          "base_uri": "https://localhost:8080/",
          "height": 481
        },
        "id": "TBtZOYxFWpS4",
        "outputId": "2df7c4b9-87d0-4a03-e6e7-611a9f859e78"
      },
      "execution_count": null,
      "outputs": [
        {
          "output_type": "display_data",
          "data": {
            "text/plain": [
              "<Figure size 640x480 with 1 Axes>"
            ],
            "image/png": "[encoded data removed]"
          },
          "metadata": {}
        }
      ]
    },
    {
      "cell_type": "code",
      "source": [
        "canvas.render(shapes=shapes, show_box=False, show_coordinates=False)"
      ],
      "metadata": {
        "colab": {
          "base_uri": "https://localhost:8080/",
          "height": 481
        },
        "id": "ciTnYm8pQuT5",
        "outputId": "2a119eb0-9182-478b-9fdd-9f4463a86f13"
      },
      "execution_count": null,
      "outputs": [
        {
          "output_type": "display_data",
          "data": {
            "text/plain": [
              "<Figure size 640x480 with 1 Axes>"
            ],
            "image/png": "[encoded data removed]"
          },
          "metadata": {}
        }
      ]
    }
  ]
}